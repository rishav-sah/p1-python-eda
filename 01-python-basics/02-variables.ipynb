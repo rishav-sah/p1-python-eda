{
 "cells": [
  {
   "cell_type": "markdown",
   "id": "0744018b-5e5b-49d7-8005-1cf01bbb0c7d",
   "metadata": {},
   "source": [
    "#### Variables\n",
    "- variable means vary\n",
    "- we want to save some values at some place, that place is called variable\n",
    "- variables and constant\n",
    "  \n",
    "\n"
   ]
  },
  {
   "cell_type": "code",
   "execution_count": 11,
   "id": "c725dce8-db31-479f-8211-1bbc910ca08b",
   "metadata": {},
   "outputs": [
    {
     "data": {
      "text/plain": [
       "100"
      ]
     },
     "execution_count": 11,
     "metadata": {},
     "output_type": "execute_result"
    }
   ],
   "source": [
    "number = 100 # the value 100 is stored in a variable called number\n",
    "number"
   ]
  },
  {
   "cell_type": "code",
   "execution_count": 12,
   "id": "3a515462-88c9-4e0f-b87b-752b42a126f6",
   "metadata": {},
   "outputs": [
    {
     "data": {
      "text/plain": [
       "200"
      ]
     },
     "execution_count": 12,
     "metadata": {},
     "output_type": "execute_result"
    }
   ],
   "source": [
    "number = 200\n",
    "number"
   ]
  },
  {
   "cell_type": "markdown",
   "id": "e4d9f2cb-815e-46d4-8436-c763f7e367fd",
   "metadata": {},
   "source": [
    "##### The above we can see the number has 100, then 200. The number is changing its value thats why we are calling it as variable"
   ]
  },
  {
   "cell_type": "code",
   "execution_count": 28,
   "id": "4f45d913-fbe2-4070-9ab1-3db7aab5b1e9",
   "metadata": {},
   "outputs": [
    {
     "data": {
      "text/plain": [
       "100"
      ]
     },
     "execution_count": 28,
     "metadata": {},
     "output_type": "execute_result"
    }
   ],
   "source": [
    "# upper case\n",
    "NUMBER = 100\n",
    "NUMBER"
   ]
  },
  {
   "cell_type": "code",
   "execution_count": 16,
   "id": "57fd0071-29a8-4ce7-8ff8-ea01021e050a",
   "metadata": {},
   "outputs": [
    {
     "data": {
      "text/plain": [
       "400"
      ]
     },
     "execution_count": 16,
     "metadata": {},
     "output_type": "execute_result"
    }
   ],
   "source": [
    "# lower case\n",
    "number = 400\n",
    "number"
   ]
  },
  {
   "cell_type": "code",
   "execution_count": 17,
   "id": "d06bc38f-072a-4ea6-9b1b-b82686c3a354",
   "metadata": {},
   "outputs": [
    {
     "data": {
      "text/plain": [
       "500"
      ]
     },
     "execution_count": 17,
     "metadata": {},
     "output_type": "execute_result"
    }
   ],
   "source": [
    "# combination of upper case and lower case\n",
    "NUMber = 500\n",
    "NUMber"
   ]
  },
  {
   "cell_type": "code",
   "execution_count": 22,
   "id": "927e465d-8034-48c9-8f33-3f6c2a6ab1b1",
   "metadata": {},
   "outputs": [
    {
     "data": {
      "text/plain": [
       "800"
      ]
     },
     "execution_count": 22,
     "metadata": {},
     "output_type": "execute_result"
    }
   ],
   "source": [
    "# combination of upper case, lower case and numbers as suffix\n",
    "NUMber123 = 800\n",
    "NUMber123"
   ]
  },
  {
   "cell_type": "code",
   "execution_count": 23,
   "id": "b0ad59a5-dc12-42cd-86fe-193b9396ce8e",
   "metadata": {},
   "outputs": [
    {
     "ename": "SyntaxError",
     "evalue": "invalid syntax (1783570837.py, line 2)",
     "output_type": "error",
     "traceback": [
      "\u001b[0;36m  Cell \u001b[0;32mIn[23], line 2\u001b[0;36m\u001b[0m\n\u001b[0;31m    123number = 600\u001b[0m\n\u001b[0m       ^\u001b[0m\n\u001b[0;31mSyntaxError\u001b[0m\u001b[0;31m:\u001b[0m invalid syntax\n"
     ]
    }
   ],
   "source": [
    "# combination of upper case, lower case and numbers as prefix\n",
    "123number = 600\n",
    "123number"
   ]
  },
  {
   "cell_type": "code",
   "execution_count": 25,
   "id": "a0c4e4cc-3c7f-4fa9-9d98-87631c135677",
   "metadata": {},
   "outputs": [
    {
     "ename": "SyntaxError",
     "evalue": "invalid syntax (306016114.py, line 2)",
     "output_type": "error",
     "traceback": [
      "\u001b[0;36m  Cell \u001b[0;32mIn[25], line 2\u001b[0;36m\u001b[0m\n\u001b[0;31m    number% = 900\u001b[0m\n\u001b[0m            ^\u001b[0m\n\u001b[0;31mSyntaxError\u001b[0m\u001b[0;31m:\u001b[0m invalid syntax\n"
     ]
    }
   ],
   "source": [
    "# spl characters\n",
    "number% = 900\n",
    "number%"
   ]
  },
  {
   "cell_type": "code",
   "execution_count": 26,
   "id": "2e09b16d-6137-44b4-a412-74f1a73c55d7",
   "metadata": {},
   "outputs": [
    {
     "data": {
      "text/plain": [
       "900"
      ]
     },
     "execution_count": 26,
     "metadata": {},
     "output_type": "execute_result"
    }
   ],
   "source": [
    "# underscore\n",
    "number_ = 900\n",
    "number_"
   ]
  },
  {
   "cell_type": "code",
   "execution_count": 27,
   "id": "955701bb-9e4d-45ee-8e25-f9e46ed1df69",
   "metadata": {},
   "outputs": [
    {
     "ename": "SyntaxError",
     "evalue": "invalid syntax (3491138702.py, line 2)",
     "output_type": "error",
     "traceback": [
      "\u001b[0;36m  Cell \u001b[0;32mIn[27], line 2\u001b[0;36m\u001b[0m\n\u001b[0;31m    if = 500\u001b[0m\n\u001b[0m       ^\u001b[0m\n\u001b[0;31mSyntaxError\u001b[0m\u001b[0;31m:\u001b[0m invalid syntax\n"
     ]
    }
   ],
   "source": [
    "# keywords\n",
    "if = 500\n",
    "if"
   ]
  },
  {
   "cell_type": "code",
   "execution_count": 29,
   "id": "7032c98d-8c29-4f93-9176-05e6d0bdece2",
   "metadata": {},
   "outputs": [
    {
     "data": {
      "text/plain": [
       "500"
      ]
     },
     "execution_count": 29,
     "metadata": {},
     "output_type": "execute_result"
    }
   ],
   "source": [
    "sum = 500\n",
    "sum # sum is a math operation it works, but we must not use it as a variable"
   ]
  },
  {
   "cell_type": "code",
   "execution_count": 34,
   "id": "e6e93f71-53ff-4a81-97e8-23d5dd969ddb",
   "metadata": {},
   "outputs": [
    {
     "ename": "SyntaxError",
     "evalue": "invalid syntax (774369901.py, line 2)",
     "output_type": "error",
     "traceback": [
      "\u001b[0;36m  Cell \u001b[0;32mIn[34], line 2\u001b[0;36m\u001b[0m\n\u001b[0;31m    number one = 1\u001b[0m\n\u001b[0m           ^\u001b[0m\n\u001b[0;31mSyntaxError\u001b[0m\u001b[0;31m:\u001b[0m invalid syntax\n"
     ]
    }
   ],
   "source": [
    "# spaces not allowed\n",
    "number one = 1"
   ]
  },
  {
   "cell_type": "code",
   "execution_count": 36,
   "id": "1ea813ac-d83c-4b10-b337-187bd0aa672d",
   "metadata": {},
   "outputs": [
    {
     "data": {
      "text/plain": [
       "1"
      ]
     },
     "execution_count": 36,
     "metadata": {},
     "output_type": "execute_result"
    }
   ],
   "source": [
    "# best way of representation\n",
    "number_one = 1\n",
    "number_one"
   ]
  },
  {
   "cell_type": "code",
   "execution_count": 38,
   "id": "af02b3df-a47b-4208-86df-f338057dd357",
   "metadata": {},
   "outputs": [
    {
     "data": {
      "text/plain": [
       "900"
      ]
     },
     "execution_count": 38,
     "metadata": {},
     "output_type": "execute_result"
    }
   ],
   "source": [
    "_ = 900\n",
    "_"
   ]
  },
  {
   "cell_type": "code",
   "execution_count": null,
   "id": "8c45e251-a14d-4598-91f3-061c8e8484cb",
   "metadata": {},
   "outputs": [],
   "source": []
  },
  {
   "cell_type": "code",
   "execution_count": null,
   "id": "21f22fef-892b-4899-af70-d92a16fe7c77",
   "metadata": {},
   "outputs": [],
   "source": []
  }
 ],
 "metadata": {
  "kernelspec": {
   "display_name": "Python 3 (ipykernel)",
   "language": "python",
   "name": "python3"
  },
  "language_info": {
   "codemirror_mode": {
    "name": "ipython",
    "version": 3
   },
   "file_extension": ".py",
   "mimetype": "text/x-python",
   "name": "python",
   "nbconvert_exporter": "python",
   "pygments_lexer": "ipython3",
   "version": "3.9.6"
  }
 },
 "nbformat": 4,
 "nbformat_minor": 5
}
