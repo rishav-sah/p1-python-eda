{
 "cells": [
  {
   "cell_type": "raw",
   "id": "30294838-3a7e-45de-87b0-9bbbd6c1d7d3",
   "metadata": {},
   "source": [
    "Q1. Leap Year Checker (but with a twist)\n",
    "\n",
    "Write a program that takes a year as input and determines:\n",
    "Whether it’s a leap year,\n",
    "AND if it's divisible by both 100 and 400, print \"Century Leap Year\".\n",
    "\n",
    "\n",
    "💡 (Hint: Use nested if or compound conditions.)"
   ]
  },
  {
   "cell_type": "code",
   "execution_count": 5,
   "id": "714ba94a-51cf-4b99-ab6f-9b2ed6bb7442",
   "metadata": {},
   "outputs": [
    {
     "name": "stdin",
     "output_type": "stream",
     "text": [
      "Enter year to be determined 1900\n"
     ]
    },
    {
     "name": "stdout",
     "output_type": "stream",
     "text": [
      "Not a leap year\n"
     ]
    }
   ],
   "source": [
    "try:\n",
    "    year = int(input(\"Enter year to be determined\"))\n",
    "\n",
    "    if (year % 4 == 0 and year % 100 != 0):\n",
    "        print(\"Leap Year\")\n",
    "    # elif (year % 400 == 0 && year % 100 == 0): #if the year is divided by 400, it's already divisible by 100 so in this case it's redundant\n",
    "    elif (year % 400):\n",
    "        print(\"Century Leap Year\")\n",
    "    else:\n",
    "        print(\"Not a leap year\")\n",
    "    \n",
    "except ValueError:\n",
    "    print(\"Error!, please enter in integer format\")"
   ]
  },
  {
   "cell_type": "code",
   "execution_count": 6,
   "id": "0cf0daae-49c9-4fac-bb75-e3db7004165f",
   "metadata": {},
   "outputs": [
    {
     "name": "stdin",
     "output_type": "stream",
     "text": [
      "Enter year:  2000\n"
     ]
    },
    {
     "name": "stdout",
     "output_type": "stream",
     "text": [
      "Leap year - Century Leap year\n"
     ]
    }
   ],
   "source": [
    "# The above version is written by me and is correct and the below version (improved version given by ai) - more streamlined version\n",
    "# The order of if-elif-else is the key here\n",
    "\"\"\"\n",
    "if year % 400 == 0:: It first checks for century leap years (divisible by 400). If this is true, it's definitely a leap year, and the subsequent conditions are skipped.\n",
    "elif year % 100 == 0:: If the year is not divisible by 400, it then checks if it's divisible by 100. If it is, it's a century year but not a leap year, so it prints \"Not a leap year\".\n",
    "elif year % 4 == 0:: If the year is neither divisible by 400 nor by 100, it checks if it's divisible by 4. If it is, then it's a regular leap year.\n",
    "else:: Finally, if none of the above conditions are met, the year is not a leap year.\n",
    "\"\"\"\n",
    "try:\n",
    "    year = int(input(\"Enter year: \"))\n",
    "\n",
    "    if (year % 400 == 0):\n",
    "        print(\"Leap year - Century Leap year\")\n",
    "    elif (year % 100 == 0):\n",
    "        print(\"Not a leap year\")\n",
    "    elif (year % 4 == 0):\n",
    "        print(\"Leap Year - Regular\")\n",
    "    else:\n",
    "        print(\"Not a leap year\")\n",
    "\n",
    "except ValueError:\n",
    "    print(\"Error! integer format only\")"
   ]
  },
  {
   "cell_type": "raw",
   "id": "71c7f384-ed67-42b6-bdfc-f607ba95e068",
   "metadata": {},
   "source": [
    "Q2. Take 3 numbers as input and print:\n",
    "\n",
    "The largest number,\n",
    "\n",
    "But only if all are distinct.\n",
    "If any two are equal, print \"Duplicate values found\"."
   ]
  },
  {
   "cell_type": "code",
   "execution_count": 11,
   "id": "df516df8-4056-48d8-9329-b249b6b70bf4",
   "metadata": {},
   "outputs": [
    {
     "name": "stdin",
     "output_type": "stream",
     "text": [
      "Enter num1:  10\n",
      "Enter num2:  23\n",
      "Enter num3:  232\n"
     ]
    },
    {
     "name": "stdout",
     "output_type": "stream",
     "text": [
      "Greater number is num3: 232.0\n"
     ]
    }
   ],
   "source": [
    "try:\n",
    "    num1 = float(input(\"Enter num1: \"))\n",
    "    num2 = float(input(\"Enter num2: \"))\n",
    "    num3 = float(input(\"Enter num3: \"))\n",
    "\n",
    "    if (num1 == num2 or num1 == num3 or num2 == num3):\n",
    "        print(\"Duplicate values found\")\n",
    "    elif (num1 > num2 and num1 > num3):\n",
    "        print(\"Greater number is num1: {}\".format(num1))\n",
    "    elif (num2 > num1 and num2 > num3):\n",
    "        print(\"Greater number is num2: {}\".format(num2))\n",
    "    else:\n",
    "        print(\"Greater number is num3: {}\".format(num3))\n",
    "\n",
    "except ValueError:\n",
    "    print(\"Error! only number accepted\")"
   ]
  },
  {
   "cell_type": "raw",
   "id": "32dbf2ee-ac88-4c15-bc16-0303654c6a29",
   "metadata": {},
   "source": [
    "Q3. Simple Calculator\n",
    "Take 2 numbers and an operator (+, -, *, /, %) as input.\n",
    "\n",
    "Perform the correct operation.\n",
    "\n",
    "Handle:\n",
    "\n",
    "Division by zero,\n",
    "\n",
    "Invalid operator input with a custom error message.\n",
    "\n",
    "Q4. Voting Eligibility by Country\n",
    "Ask user for their age and country (US, Nepal, or India) and:\n",
    "\n",
    "Print \"Eligible\" if:\n",
    "\n",
    "Age ≥ 18 for Nepal and India,\n",
    "\n",
    "Age ≥ 21 for US.\n",
    "\n",
    "Print \"Not eligible\" otherwise.\n",
    "\n",
    "🔁 Add a check for invalid country input.\n",
    "\n",
    "Q5. Date Validator (Mini)\n",
    "Take input: day, month, year (as integers).\n",
    "\n",
    "Check if it’s a valid date (e.g., Feb 30 is invalid),\n",
    "\n",
    "Handle leap years and 30-day vs 31-day months manually using logic.\n",
    "\n",
    "💡 (No datetime module allowed. Use conditionals only.)"
   ]
  },
  {
   "cell_type": "raw",
   "id": "35df09c5-7a2e-48dc-ab14-300f853334b3",
   "metadata": {},
   "source": [
    "Q3. Simple Calculator\n",
    "Take 2 numbers and an operator (+, -, *, /, %) as input.\n",
    "\n",
    "Perform the correct operation.\n",
    "\n",
    "Handle:\n",
    "\n",
    "Division by zero,\n",
    "\n",
    "Invalid operator input with a custom error message."
   ]
  },
  {
   "cell_type": "code",
   "execution_count": 28,
   "id": "8187640f-2f44-42b9-8878-586d99c8053a",
   "metadata": {},
   "outputs": [
    {
     "name": "stdin",
     "output_type": "stream",
     "text": [
      "Enter user input 1:  20\n",
      "Enter user input 2:  20\n",
      "Please select by entering: +, -, *, /, %  /\n"
     ]
    },
    {
     "name": "stdout",
     "output_type": "stream",
     "text": [
      "Division of 20.0 and 20.0 is: 1.0\n"
     ]
    }
   ],
   "source": [
    "try:\n",
    "    num1 = float(input(\"Enter user input 1: \"))\n",
    "    num2 = float(input(\"Enter user input 2: \"))\n",
    "    \n",
    "    operator = input(\"Please select by entering: +, -, *, /, % \")\n",
    "\n",
    "    if operator == \"+\":\n",
    "        result = num1 + num2\n",
    "        print(\"Sum of {} and {} is: {}\".format(num1, num2, result))\n",
    "    elif operator == \"-\":\n",
    "        result = num1 - num2\n",
    "        print(\"Difference of {} and {} is: {}\".format(num1, num2, result))\n",
    "    elif operator == \"*\":\n",
    "        result = num1 * num2\n",
    "        print(\"Product of {} and {} is: {}\".format(num1, num2, result))\n",
    "    elif operator == \"/\":\n",
    "        if num2 == 0:\n",
    "            print(\"Denominator cannot be 0\")\n",
    "        else:\n",
    "            result = num1 / num2\n",
    "            print(\"Division of {} and {} is: {}\".format(num1, num2, result))\n",
    "    elif operator == \"%\":\n",
    "        if num2 == 0:\n",
    "            print(\"Denominator cannot be 0\")\n",
    "        else:\n",
    "            result = num1 % num2\n",
    "            print(\"Remainder of {} and {} is: {}\".format(num1, num2, result))\n",
    "    else:\n",
    "        print(\"Only enter +, -, *, /, %\")\n",
    "    \n",
    "except ValueError:\n",
    "    print(\"Invalid input. Numbers accepted only.\")\n"
   ]
  }
 ],
 "metadata": {
  "kernelspec": {
   "display_name": "Python 3 (ipykernel)",
   "language": "python",
   "name": "python3"
  },
  "language_info": {
   "codemirror_mode": {
    "name": "ipython",
    "version": 3
   },
   "file_extension": ".py",
   "mimetype": "text/x-python",
   "name": "python",
   "nbconvert_exporter": "python",
   "pygments_lexer": "ipython3",
   "version": "3.9.6"
  }
 },
 "nbformat": 4,
 "nbformat_minor": 5
}
