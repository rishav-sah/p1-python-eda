{
 "cells": [
  {
   "cell_type": "markdown",
   "id": "2f5c54ac-f7a4-4f35-a57d-b9a62c0012c7",
   "metadata": {},
   "source": [
    "#### Loop\n",
    "\n",
    "- For Loop\n",
    "- While Loop\n",
    "\n",
    "- you will be in the loop\n",
    "- when we will enter the loop\n",
    "- how much time you will stay in the loop\n",
    "- how you will come out from the loop\n",
    "\n",
    "##### In another words\n",
    "- initialization\n",
    "- increment / decrement\n",
    "- condition to stop the loop"
   ]
  },
  {
   "cell_type": "code",
   "execution_count": null,
   "id": "8245842d-2767-4563-8042-95b0a7ea4308",
   "metadata": {},
   "outputs": [],
   "source": [
    "# printing first ten numbers\n",
    "# intial point: 0\n",
    "# increment\n",
    "# cond=10"
   ]
  },
  {
   "cell_type": "markdown",
   "id": "93c5ff3f-d1ac-4497-9cdb-351cfeabde20",
   "metadata": {},
   "source": [
    "##### *Pattern 1*\n",
    "- for i in range(stop_value)\n",
    "- in the bracket if we have only single value that is considered as stop value\n",
    "- the default start value is 0. \n",
    "- python index always start with 0.\n",
    "- If direction is not mentioned: increment(+) sign\n",
    "- If direction is positive side then end = stop-1"
   ]
  },
  {
   "cell_type": "code",
   "execution_count": 5,
   "id": "b6b41492-c1f4-4413-bf00-75c83b54c041",
   "metadata": {},
   "outputs": [
    {
     "name": "stdout",
     "output_type": "stream",
     "text": [
      "0\n",
      "1\n",
      "2\n",
      "3\n",
      "4\n",
      "5\n",
      "6\n",
      "7\n",
      "8\n",
      "9\n"
     ]
    }
   ],
   "source": [
    "# Pattern - 1. In \n",
    "for i in range(10):\n",
    "    print(i)\n",
    "\n",
    "#start=0\n",
    "#direction=+\n",
    "#end=stop-1=10-1 = 9"
   ]
  },
  {
   "cell_type": "code",
   "execution_count": 10,
   "id": "d856c1df-ba15-498f-8c43-3c67f7328f8d",
   "metadata": {},
   "outputs": [
    {
     "name": "stdout",
     "output_type": "stream",
     "text": [
      "0\n",
      "1\n",
      "2\n",
      "3\n",
      "4\n",
      "5\n",
      "6\n",
      "7\n",
      "8\n",
      "9\n",
      "10\n",
      "11\n",
      "12\n",
      "13\n",
      "14\n",
      "15\n",
      "16\n",
      "17\n",
      "18\n",
      "19\n"
     ]
    }
   ],
   "source": [
    "for i in range(20):\n",
    "    print(i)"
   ]
  },
  {
   "cell_type": "code",
   "execution_count": 12,
   "id": "ced763cf-efb9-4764-8ab5-70a638c48e9a",
   "metadata": {},
   "outputs": [
    {
     "name": "stdout",
     "output_type": "stream",
     "text": [
      "0 1 2 3 4 5 6 7 8 9 10 11 12 13 14 15 16 17 18 19 "
     ]
    }
   ],
   "source": [
    "for i in range(20):\n",
    "    print(i, end=\" \")"
   ]
  },
  {
   "cell_type": "markdown",
   "id": "ee0337f5-ab0b-4c7c-b99d-cb8f79dd4757",
   "metadata": {},
   "source": [
    "##### *Pattern 2*\n",
    "- for i in range(start, stop)\n",
    "- start = initial value\n",
    "- direction sign not mentioned: +ve direction i.e increment\n",
    "- end=stop-1"
   ]
  },
  {
   "cell_type": "code",
   "execution_count": 25,
   "id": "e4ed181c-58b3-4070-906d-6630695ad4b8",
   "metadata": {},
   "outputs": [
    {
     "name": "stdout",
     "output_type": "stream",
     "text": [
      "10\n",
      "11\n",
      "12\n",
      "13\n",
      "14\n",
      "15\n",
      "16\n",
      "17\n",
      "18\n",
      "19\n"
     ]
    }
   ],
   "source": [
    "for i in range(10, 20):\n",
    "    print(i)\n"
   ]
  },
  {
   "cell_type": "code",
   "execution_count": 27,
   "id": "d764be5b-a929-4729-b7d7-fcd2018424d3",
   "metadata": {},
   "outputs": [
    {
     "name": "stdout",
     "output_type": "stream",
     "text": [
      "10 11 12 13 14 15 16 17 18 19 "
     ]
    }
   ],
   "source": [
    "for i in range(10, 20):\n",
    "    print(i, end=\" \")\n"
   ]
  },
  {
   "cell_type": "markdown",
   "id": "e0295020-1db4-40a3-9ece-c7db562b0bdc",
   "metadata": {},
   "source": [
    "##### *Pattern 3*\n",
    "\n",
    "- for i in range(start, stop, step)\n",
    "- start: start of the loop, initial point\n",
    "- direction: what is the sign of step value, that is the direction\n",
    "    - direction will not be provided by start and stop value\n",
    "    - direction will be provided by step value\n",
    "- end=stop-1\n",
    "- if step size is positive direction\n",
    "    - end = stop - 1\n",
    "- if step size is negative direction\n",
    "    - end = stop + 1\n",
    " \n"
   ]
  },
  {
   "cell_type": "code",
   "execution_count": 29,
   "id": "f2d5365d-aa3f-4108-b931-368b4a71b627",
   "metadata": {},
   "outputs": [
    {
     "name": "stdout",
     "output_type": "stream",
     "text": [
      "2\n",
      "4\n",
      "6\n",
      "8\n",
      "10\n",
      "12\n",
      "14\n",
      "16\n",
      "18\n"
     ]
    }
   ],
   "source": [
    "for i in range(2, 20, 2):\n",
    "    print(i)\n",
    "\n",
    "# start=2\n",
    "# direction: step size+2\n",
    "# end: stop - 1 = 20-1 = 19"
   ]
  },
  {
   "cell_type": "code",
   "execution_count": 41,
   "id": "e658ff9f-a16a-4dc0-9d0e-60bcde18a522",
   "metadata": {},
   "outputs": [
    {
     "name": "stdout",
     "output_type": "stream",
     "text": [
      "-1\n",
      "-2\n",
      "-3\n",
      "-4\n",
      "-5\n",
      "-6\n",
      "-7\n",
      "-8\n",
      "-9\n"
     ]
    }
   ],
   "source": [
    "for i in range(-1, -10, -1): # (start, stop, step)\n",
    "    print(i)\n",
    "\n",
    "# start = -1\n",
    "# direction: step - 1 - negative direction\n",
    "# end = stop + 1"
   ]
  },
  {
   "cell_type": "code",
   "execution_count": 42,
   "id": "26ae86b3-f803-4bbb-87cd-a5718aca9c5e",
   "metadata": {},
   "outputs": [],
   "source": [
    "for i in range(-1, -10, 1): # (start, stop, step)\n",
    "    print(i)\n",
    "\n",
    "# start = -1\n",
    "# direction: step - 1 - +ve direction\n",
    "# end = stop - 1 = -10-1 = -11 # not possible"
   ]
  },
  {
   "cell_type": "code",
   "execution_count": 44,
   "id": "5104b1c3-cccd-469b-a39e-400b6cb77926",
   "metadata": {},
   "outputs": [],
   "source": [
    "for i in range(8, 20, -2):\n",
    "    print(i)\n",
    "\n",
    "# start = 8\n",
    "# direction = -2 - -ve direction\n",
    "# end = stop + 1 = 20 + 1 = 21"
   ]
  },
  {
   "cell_type": "code",
   "execution_count": null,
   "id": "39808a80-16d2-40ce-9fd8-9b90aa66ec9d",
   "metadata": {},
   "outputs": [],
   "source": [
    "range(3, 25, 3) # p\n",
    "range(3, 25, -3) # np\n",
    "range(3, -25, 3) #np\n",
    "range(3, -25, -3) #p\n",
    "range(-3, -25, 3) # np\n",
    "range(-3, 25, -3) # np\n",
    "range(-3, -25, -3) #p"
   ]
  },
  {
   "cell_type": "code",
   "execution_count": null,
   "id": "5b24dfcc-2254-461d-be44-006fadcf9f05",
   "metadata": {},
   "outputs": [],
   "source": [
    "range(3, 25, 3) # possible\n",
    "range(3, 25, -3) # not possible\n",
    "range(3, -25, 3) # not possible\n",
    "range(3, -25, -3) # possible"
   ]
  },
  {
   "cell_type": "code",
   "execution_count": 49,
   "id": "7fed743b-aa3c-4df6-bc68-0188734f4486",
   "metadata": {},
   "outputs": [
    {
     "name": "stdout",
     "output_type": "stream",
     "text": [
      "3\n",
      "0\n",
      "-3\n",
      "-6\n",
      "-9\n",
      "-12\n",
      "-15\n",
      "-18\n",
      "-21\n",
      "-24\n"
     ]
    }
   ],
   "source": [
    "for i in range(3, -25, -3):\n",
    "    print(i)"
   ]
  },
  {
   "cell_type": "code",
   "execution_count": 51,
   "id": "ad4af3b5-aaf2-4f3b-9cbc-98f64f980ed1",
   "metadata": {},
   "outputs": [
    {
     "name": "stdout",
     "output_type": "stream",
     "text": [
      "Hello\n",
      "Hello\n",
      "Hello\n"
     ]
    }
   ],
   "source": [
    "# WAP to print hello 3 times\n",
    "for i in range(3): #setting up the loop\n",
    "    print(\"Hello\") "
   ]
  },
  {
   "cell_type": "code",
   "execution_count": 57,
   "id": "3875d18f-bdf5-4539-9bdc-c3cd563ec40a",
   "metadata": {},
   "outputs": [
    {
     "name": "stdout",
     "output_type": "stream",
     "text": [
      "A\n",
      "A\n",
      "A\n",
      "B\n",
      "B\n",
      "C\n",
      "C\n",
      "C\n"
     ]
    }
   ],
   "source": [
    " # WAP program to print: A A A B B C C C\n",
    "\n",
    "def print_pattern(a, r):\n",
    "    for i in range(r):\n",
    "        print(a)\n",
    "\n",
    "def pattern_main():\n",
    "    print_pattern(\"A\", 3)\n",
    "    print_pattern(\"B\", 2)\n",
    "    print_pattern(\"C\", 3)\n",
    "\n",
    "pattern_main()\n"
   ]
  },
  {
   "cell_type": "code",
   "execution_count": 59,
   "id": "4aef48a5-97a4-4800-bca8-3f1f00db403f",
   "metadata": {},
   "outputs": [
    {
     "name": "stdout",
     "output_type": "stream",
     "text": [
      "A\n",
      "A\n",
      "A\n",
      "B\n",
      "B\n",
      "C\n",
      "C\n",
      "C\n"
     ]
    }
   ],
   "source": [
    "for i in range(3):\n",
    "    print(\"A\")\n",
    "for i in range(2):\n",
    "    print(\"B\")\n",
    "for i in range(3):\n",
    "    print(\"C\")"
   ]
  },
  {
   "cell_type": "code",
   "execution_count": 61,
   "id": "4f50e9f7-fd32-4665-8b1d-ae08177df866",
   "metadata": {},
   "outputs": [
    {
     "name": "stdout",
     "output_type": "stream",
     "text": [
      "A\n",
      "B\n",
      "A\n",
      "B\n",
      "A\n",
      "B\n",
      "C\n",
      "C\n",
      "C\n"
     ]
    }
   ],
   "source": [
    "# A B A B A B C C C\n",
    "\n",
    "for i in range(3):\n",
    "    print(\"A\")\n",
    "    print(\"B\")\n",
    "for i in range(3):\n",
    "    print(\"C\")"
   ]
  },
  {
   "cell_type": "code",
   "execution_count": 70,
   "id": "7b6bc149-f779-4297-9e4c-1f8d14960307",
   "metadata": {},
   "outputs": [
    {
     "name": "stdout",
     "output_type": "stream",
     "text": [
      "The square of 10 is 100\n",
      "The square of 11 is 121\n",
      "The square of 12 is 144\n",
      "The square of 13 is 169\n",
      "The square of 14 is 196\n",
      "The square of 15 is 225\n"
     ]
    }
   ],
   "source": [
    "# wap to get the square of the numbers between 10 - 15\n",
    "\n",
    "for i in range(10, 16):\n",
    "    print(\"The square of {} is {}\".format(i, i**2))"
   ]
  },
  {
   "cell_type": "code",
   "execution_count": 77,
   "id": "023c2240-ad91-4091-b077-32784aa82a79",
   "metadata": {},
   "outputs": [
    {
     "name": "stdin",
     "output_type": "stream",
     "text": [
      "Enter start:  10\n",
      "Enter end:  16\n"
     ]
    },
    {
     "name": "stdout",
     "output_type": "stream",
     "text": [
      "The square of 10 is 100\n",
      "The square of 11 is 121\n",
      "The square of 12 is 144\n",
      "The square of 13 is 169\n",
      "The square of 14 is 196\n",
      "The square of 15 is 225\n"
     ]
    }
   ],
   "source": [
    "# same above question but taking input from the keyboard\n",
    "\n",
    "num1 = eval(input(\"Enter start: \"))\n",
    "num2 = eval(input(\"Enter end: \"))\n",
    "for i in range(num1, num2):\n",
    "    print(f\"The square of {i} is {i**2}\")"
   ]
  },
  {
   "cell_type": "code",
   "execution_count": 82,
   "id": "7d7b87c4-3d91-4c24-a1fe-581f0def2407",
   "metadata": {},
   "outputs": [
    {
     "name": "stdout",
     "output_type": "stream",
     "text": [
      "3\n",
      "9\n",
      "10\n",
      "11\n",
      "14\n"
     ]
    }
   ],
   "source": [
    "# wap to ask the user to print square of the five numbers\n",
    "# the five numbers must be input by the user in each iteration\n",
    "\n",
    "# wap to ask a user to print the square of number five times, this time take a random number between 1 to 20\n",
    "\n",
    "import random\n",
    "\n",
    "for i in range(5):\n",
    "    random_num = random.randint(1,20)\n",
    "    print(random_num)"
   ]
  },
  {
   "cell_type": "code",
   "execution_count": 90,
   "id": "31c2b76c-a956-4475-91f3-bef004e04902",
   "metadata": {},
   "outputs": [
    {
     "name": "stdout",
     "output_type": "stream",
     "text": [
      "10 is even\n",
      "11 is odd\n",
      "12 is even\n",
      "13 is odd\n",
      "14 is even\n",
      "15 is odd\n",
      "16 is even\n",
      "17 is odd\n",
      "18 is even\n",
      "19 is odd\n",
      "20 is even\n",
      "21 is odd\n",
      "22 is even\n",
      "23 is odd\n",
      "24 is even\n",
      "25 is odd\n",
      "26 is even\n",
      "27 is odd\n",
      "28 is even\n",
      "29 is odd\n"
     ]
    }
   ],
   "source": [
    "### wap to ask a user to print the given number is even or odd\n",
    "### you need to take the number between 10 to 30\n",
    "\n",
    "\n",
    "for i in range(10, 30):\n",
    "    if (i % 2 == 0):\n",
    "        print(f\"{i} is even\")\n",
    "    else:\n",
    "        print(f\"{i} is odd\")"
   ]
  },
  {
   "cell_type": "code",
   "execution_count": 89,
   "id": "476cf118-48ca-40d7-bd18-ef6053e81d27",
   "metadata": {},
   "outputs": [
    {
     "name": "stdout",
     "output_type": "stream",
     "text": [
      "1\n",
      "3\n",
      "6\n",
      "10\n",
      "15\n",
      "21\n",
      "28\n",
      "36\n",
      "45\n",
      "55\n"
     ]
    }
   ],
   "source": [
    "# sum of 10 natural numbers\n",
    "sum1 = 0\n",
    "for i in range(1, 11):\n",
    "    sum1 = sum1 + i\n",
    "    print(sum1)\n",
    "\n",
    "# iteration 1\n",
    "# sum1 = 0, i = 1\n",
    "# sum1 = = 0 + 1 = 1\n",
    "\n",
    "# iteration 2\n",
    "# sum1 = 1, i = 2\n",
    "# sum1 = 1 + 2 = 3"
   ]
  },
  {
   "cell_type": "markdown",
   "id": "91192b9f-04bf-4223-87a0-6f004312bad1",
   "metadata": {},
   "source": [
    "#### while loop\n",
    "\n",
    "Any loop we need initialization, condition, increment/ decrement\n",
    "\n",
    "But, in case of while loop  we need to provide all the above individually."
   ]
  },
  {
   "cell_type": "code",
   "execution_count": null,
   "id": "e5855c60-2787-4be6-9cbc-8ba551b80d44",
   "metadata": {},
   "outputs": [],
   "source": [
    "# I want to print first 10 numbers\n",
    "\n",
    "# initialization\n",
    "# increment / decrement\n",
    "# condition: whenver I will see value 9 i will stop the loop\n",
    "\n",
    "# wrapper\n",
    "i=0 # initial point\n",
    "\n",
    "while <condition>:\n",
    "    # st1\n",
    "    # st2\n",
    "    #st3\n",
    "\n",
    "    i = i + 1"
   ]
  },
  {
   "cell_type": "code",
   "execution_count": 7,
   "id": "4ed2e42b-a5cb-4c0d-b922-1ab0b97dabb9",
   "metadata": {},
   "outputs": [
    {
     "name": "stdout",
     "output_type": "stream",
     "text": [
      "0 1 2 3 4 5 6 7 8 9 "
     ]
    }
   ],
   "source": [
    "i = 0\n",
    "while (i<=9):\n",
    "    print(i, end=\" \")\n",
    "    i = i + 1\n",
    "\n",
    "# step-1:    i=0     0>=0    True    print(0)    i=0+1=1\n",
    "# step-2:    i=1     1>=0    T       print(1)    i=1+1=2\n",
    "# step-3:    i=2     2>=0    T       print(2)    i=2+2=3\n",
    "\n",
    "# condiiton is very important to come out of the loop to avoid the infine loop."
   ]
  },
  {
   "cell_type": "code",
   "execution_count": 8,
   "id": "d2c5c75f-fd9e-4137-b85b-984f916cd248",
   "metadata": {},
   "outputs": [
    {
     "name": "stdout",
     "output_type": "stream",
     "text": [
      "10\n",
      "9\n",
      "8\n",
      "7\n",
      "6\n",
      "5\n",
      "4\n",
      "3\n",
      "2\n",
      "1\n"
     ]
    }
   ],
   "source": [
    "# reverse order\n",
    "\n",
    "i = 10\n",
    "while (i > 0):\n",
    "    print(i)\n",
    "    i = i - 1"
   ]
  },
  {
   "cell_type": "code",
   "execution_count": 6,
   "id": "985b4c2f-8757-4cc3-8762-25208ee01abb",
   "metadata": {},
   "outputs": [
    {
     "name": "stdout",
     "output_type": "stream",
     "text": [
      "0 1 2 3 4 5 6 7 8 9 "
     ]
    }
   ],
   "source": [
    "for i in range(0, 10):\n",
    "    print(i, end = \" \")"
   ]
  },
  {
   "cell_type": "code",
   "execution_count": 10,
   "id": "f147462e-c9b7-4c83-8145-69b9b767af6f",
   "metadata": {},
   "outputs": [
    {
     "name": "stdout",
     "output_type": "stream",
     "text": [
      "-1\n",
      "-2\n",
      "-3\n",
      "-4\n",
      "-5\n",
      "-6\n",
      "-7\n",
      "-8\n",
      "-9\n",
      "-10\n"
     ]
    }
   ],
   "source": [
    "# print -1 to -10\n",
    "\n",
    "i = -1\n",
    "while (i >= -10):\n",
    "    print(i)\n",
    "    i = i - 1"
   ]
  },
  {
   "cell_type": "code",
   "execution_count": 9,
   "id": "be2a833f-dfaa-4df6-8dae-d637ed04ff9a",
   "metadata": {},
   "outputs": [
    {
     "data": {
      "text/plain": [
       "False"
      ]
     },
     "execution_count": 9,
     "metadata": {},
     "output_type": "execute_result"
    }
   ],
   "source": [
    "-11 > -10"
   ]
  },
  {
   "cell_type": "markdown",
   "id": "3039a977-9daf-49c9-a6ba-b7e9dcb30cf5",
   "metadata": {},
   "source": [
    "- When we do not provide a valid condition\n",
    "- the loop will go to to infinite\n",
    "- then provide an if condition iniside the loop\n",
    "- In case, when we are unsure about the conditions, apply while True=== then provide the if condition\n",
    "- inside the loop"
   ]
  },
  {
   "cell_type": "code",
   "execution_count": 14,
   "id": "6011d079-e2f6-4dd3-a50d-16cdd1d15435",
   "metadata": {},
   "outputs": [
    {
     "name": "stdout",
     "output_type": "stream",
     "text": [
      "0\n",
      "1\n",
      "2\n",
      "3\n",
      "4\n",
      "5\n",
      "6\n",
      "7\n",
      "8\n",
      "9\n"
     ]
    }
   ],
   "source": [
    "i = 0\n",
    "while True:\n",
    "    print(i)\n",
    "    i = i + 1\n",
    "    if i == 10:\n",
    "        break"
   ]
  },
  {
   "cell_type": "code",
   "execution_count": 19,
   "id": "3f868b6b-4d0f-4aba-a177-886c75682e8e",
   "metadata": {},
   "outputs": [
    {
     "name": "stdout",
     "output_type": "stream",
     "text": [
      "0 1 2 3 4 5 6 7 8 9 0 1 2 3 4 5 6 7 8 9 0 1 2 3 4 5 6 7 8 9 "
     ]
    }
   ],
   "source": [
    "###################### Infinite Loop ######################\n",
    "i=0\n",
    "while i>=0:\n",
    "    print(i,end=' ')\n",
    "    i=i+1\n",
    "    if i==10:break\n",
    "\n",
    "###################### True ######################\n",
    "\n",
    "i=0\n",
    "while True:\n",
    "    print(i,end=' ')\n",
    "    i=i+1\n",
    "    if i==10:break\n",
    "\n",
    "###################### I know the condition ######################\n",
    "i=0\n",
    "while i<10:\n",
    "    print(i,end=' ')\n",
    "    i=i+1"
   ]
  },
  {
   "cell_type": "code",
   "execution_count": 20,
   "id": "313a022d-fa8b-407c-9ddc-f9ad12ad7e26",
   "metadata": {},
   "outputs": [],
   "source": [
    "# ask the user to input a number 5 times\n",
    "# print the square of the number\n",
    "\n",
    "# first do using for loop\n",
    "# then using while loop\n"
   ]
  },
  {
   "cell_type": "code",
   "execution_count": 25,
   "id": "7fc2f8dc-10f0-449f-9792-79e1e5e6ce79",
   "metadata": {},
   "outputs": [
    {
     "name": "stdin",
     "output_type": "stream",
     "text": [
      "Enter number: 5\n"
     ]
    },
    {
     "name": "stdout",
     "output_type": "stream",
     "text": [
      "The square of 5 is 25\n"
     ]
    },
    {
     "name": "stdin",
     "output_type": "stream",
     "text": [
      "Enter number: 3\n"
     ]
    },
    {
     "name": "stdout",
     "output_type": "stream",
     "text": [
      "The square of 3 is 9\n"
     ]
    },
    {
     "name": "stdin",
     "output_type": "stream",
     "text": [
      "Enter number: 5\n"
     ]
    },
    {
     "name": "stdout",
     "output_type": "stream",
     "text": [
      "The square of 5 is 25\n"
     ]
    },
    {
     "name": "stdin",
     "output_type": "stream",
     "text": [
      "Enter number: 32\n"
     ]
    },
    {
     "name": "stdout",
     "output_type": "stream",
     "text": [
      "The square of 32 is 1024\n"
     ]
    },
    {
     "name": "stdin",
     "output_type": "stream",
     "text": [
      "Enter number: 3\n"
     ]
    },
    {
     "name": "stdout",
     "output_type": "stream",
     "text": [
      "The square of 3 is 9\n"
     ]
    }
   ],
   "source": [
    "\n",
    "for i in range(5):\n",
    "    n = eval(input(\"Enter number:\"))\n",
    "    print(f\"The square of {n} is {n**2}\")\n"
   ]
  },
  {
   "cell_type": "code",
   "execution_count": 26,
   "id": "85e088de-223d-4dfd-aa35-5ddc87e49e4d",
   "metadata": {},
   "outputs": [
    {
     "name": "stdin",
     "output_type": "stream",
     "text": [
      "Enter number: 5\n"
     ]
    },
    {
     "name": "stdout",
     "output_type": "stream",
     "text": [
      "The square of 5 is 25\n"
     ]
    },
    {
     "name": "stdin",
     "output_type": "stream",
     "text": [
      "Enter number: 3\n"
     ]
    },
    {
     "name": "stdout",
     "output_type": "stream",
     "text": [
      "The square of 3 is 9\n"
     ]
    },
    {
     "name": "stdin",
     "output_type": "stream",
     "text": [
      "Enter number: 7\n"
     ]
    },
    {
     "name": "stdout",
     "output_type": "stream",
     "text": [
      "The square of 7 is 49\n"
     ]
    },
    {
     "name": "stdin",
     "output_type": "stream",
     "text": [
      "Enter number: 8\n"
     ]
    },
    {
     "name": "stdout",
     "output_type": "stream",
     "text": [
      "The square of 8 is 64\n"
     ]
    },
    {
     "name": "stdin",
     "output_type": "stream",
     "text": [
      "Enter number: 5\n"
     ]
    },
    {
     "name": "stdout",
     "output_type": "stream",
     "text": [
      "The square of 5 is 25\n"
     ]
    }
   ],
   "source": [
    "\n",
    "i = 0\n",
    "while (i < 5):\n",
    "    n = eval(input(\"Enter number:\"))\n",
    "    print(f\"The square of {n} is {n**2}\")\n",
    "    i += 1"
   ]
  },
  {
   "cell_type": "code",
   "execution_count": 27,
   "id": "daf77c99-6a8e-4baf-bbff-5d1d2b1004e1",
   "metadata": {},
   "outputs": [
    {
     "name": "stdout",
     "output_type": "stream",
     "text": [
      "\u001b[1;31merror\u001b[0m: \u001b[1mexternally-managed-environment\u001b[0m\n",
      "\n",
      "\u001b[31m×\u001b[0m This environment is externally managed\n",
      "\u001b[31m╰─>\u001b[0m To install Python packages system-wide, try brew install\n",
      "\u001b[31m   \u001b[0m xyz, where xyz is the package you are trying to\n",
      "\u001b[31m   \u001b[0m install.\n",
      "\u001b[31m   \u001b[0m \n",
      "\u001b[31m   \u001b[0m If you wish to install a Python library that isn't in Homebrew,\n",
      "\u001b[31m   \u001b[0m use a virtual environment:\n",
      "\u001b[31m   \u001b[0m \n",
      "\u001b[31m   \u001b[0m python3 -m venv path/to/venv\n",
      "\u001b[31m   \u001b[0m source path/to/venv/bin/activate\n",
      "\u001b[31m   \u001b[0m python3 -m pip install xyz\n",
      "\u001b[31m   \u001b[0m \n",
      "\u001b[31m   \u001b[0m If you wish to install a Python application that isn't in Homebrew,\n",
      "\u001b[31m   \u001b[0m it may be easiest to use 'pipx install xyz', which will manage a\n",
      "\u001b[31m   \u001b[0m virtual environment for you. You can install pipx with\n",
      "\u001b[31m   \u001b[0m \n",
      "\u001b[31m   \u001b[0m brew install pipx\n",
      "\u001b[31m   \u001b[0m \n",
      "\u001b[31m   \u001b[0m You may restore the old behavior of pip by passing\n",
      "\u001b[31m   \u001b[0m the '--break-system-packages' flag to pip, or by adding\n",
      "\u001b[31m   \u001b[0m 'break-system-packages = true' to your pip.conf file. The latter\n",
      "\u001b[31m   \u001b[0m will permanently disable this error.\n",
      "\u001b[31m   \u001b[0m \n",
      "\u001b[31m   \u001b[0m If you disable this error, we STRONGLY recommend that you additionally\n",
      "\u001b[31m   \u001b[0m pass the '--user' flag to pip, or set 'user = true' in your pip.conf\n",
      "\u001b[31m   \u001b[0m file. Failure to do this can result in a broken Homebrew installation.\n",
      "\u001b[31m   \u001b[0m \n",
      "\u001b[31m   \u001b[0m Read more about this behavior here: <https://peps.python.org/pep-0668/>\n",
      "\n",
      "\u001b[1;35mnote\u001b[0m: If you believe this is a mistake, please contact your Python installation or OS distribution provider. You can override this, at the risk of breaking your Python installation or OS, by passing --break-system-packages.\n",
      "\u001b[1;36mhint\u001b[0m: See PEP 668 for the detailed specification.\n"
     ]
    }
   ],
   "source": [
    "!pip3 install pyautogui"
   ]
  },
  {
   "cell_type": "code",
   "execution_count": null,
   "id": "930a0f8e-fe2f-4550-b020-d966d165c4e5",
   "metadata": {},
   "outputs": [],
   "source": [
    "import openpyxl\n",
    "import pyautogui\n",
    "import os\n",
    "\n",
    "def capture_solution_from_template(excel_file_path, output_dir):\n",
    "    \"\"\"\n",
    "    Captures solutions from an Excel file using a standardized template.\n",
    "\n",
    "    Args:\n",
    "        excel_file_path (str): Path to the student's Excel file.\n",
    "        output_dir (str): Directory to save the captured solutions.\n",
    "    \"\"\"\n",
    "    try:\n",
    "        workbook = openpyxl.load_workbook(excel_file_path)\n",
    "\n",
    "        # Assuming a template with specific sheet names or named ranges\n",
    "        # and that all solutions are on Sheet1\n",
    "        sheet = workbook['Sheet1']\n",
    "\n",
    "        # Define the ranges to capture, based on the template\n",
    "        ranges_to_capture = {\n",
    "            \"Problem_1\": \"B2:F10\",  # Example range for Problem 1\n",
    "            \"Problem_2\": \"H2:L10\",  # Example range for Problem 2\n",
    "            \"Question_3\": \"B12:F20\", # Example range for Question 3\n",
    "            # Add more ranges as needed, based on your template\n",
    "        }\n",
    "\n",
    "        for problem, cell_range in ranges_to_capture.items():\n",
    "            # 1. Get the cell range\n",
    "            start_cell = sheet[cell_range.split(\":\")[0]]\n",
    "            end_cell = sheet[cell_range.split(\":\")[1]]\n",
    "\n",
    "            # 2. Get screen coordinates (this part still needs adaptation)\n",
    "            excel_window = pyautogui.getWindowsWithTitle(\"Microsoft Excel\")[0]\n",
    "            left, top, width, height = excel_window.left, excel_window.top, excel_window.width, excel_window.height\n",
    "\n",
    "            # VERY IMPORTANT:  These offsets will need to be adjusted\n",
    "            # based on your Excel version, OS, and screen resolution.\n",
    "            cell_left = left + (start_cell.column * 80)\n",
    "            cell_top = top + (start_cell.row * 20)\n",
    "            cell_right = left + (end_cell.column * 80)\n",
    "            cell_bottom = top + (end_cell.row * 20)\n",
    "\n",
    "            # 3. Capture the range\n",
    "            import mss\n",
    "            with mss.mss() as sct:\n",
    "                monitor = {\"top\": cell_top, \"left\": cell_left, \"width\": cell_right - cell_left, \"height\": cell_bottom - cell_top}\n",
    "                screenshot = sct.grab(monitor)\n",
    "                img = screenshot\n",
    "\n",
    "            # 4. Save the screenshot\n",
    "            if not os.path.exists(output_dir):\n",
    "                os.makedirs(output_dir)\n",
    "            output_file_path = os.path.join(output_dir, f\"{problem}.png\")\n",
    "            mss.tools.to_png(img.rgb, img.size, output=output_file_path)\n",
    "            print(f\"Captured {problem} and saved to {output_file_path}\")\n",
    "\n",
    "        print(\"Finished capturing solutions.\")\n",
    "\n",
    "    except Exception as e:\n",
    "        print(f\"An error occurred: {e}\")\n",
    "    finally:\n",
    "        if 'workbook' in locals():\n",
    "            workbook.close()\n",
    "\n",
    "\n",
    "# Example Usage\n",
    "excel_file = \"student_submission_template.xlsx\"  # Student file with the template\n",
    "output_dir = \"graded_solutions\"\n",
    "capture_solution_from_template(excel_file, output_dir)\n"
   ]
  }
 ],
 "metadata": {
  "kernelspec": {
   "display_name": "Python 3 (ipykernel)",
   "language": "python",
   "name": "python3"
  },
  "language_info": {
   "codemirror_mode": {
    "name": "ipython",
    "version": 3
   },
   "file_extension": ".py",
   "mimetype": "text/x-python",
   "name": "python",
   "nbconvert_exporter": "python",
   "pygments_lexer": "ipython3",
   "version": "3.13.3"
  }
 },
 "nbformat": 4,
 "nbformat_minor": 5
}
