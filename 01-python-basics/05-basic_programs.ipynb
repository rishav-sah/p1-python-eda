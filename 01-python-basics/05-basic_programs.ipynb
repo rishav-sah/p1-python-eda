{
 "cells": [
  {
   "cell_type": "code",
   "execution_count": 1,
   "id": "87d575b4-d32b-41da-942c-54804cd8fe31",
   "metadata": {},
   "outputs": [
    {
     "name": "stdout",
     "output_type": "stream",
     "text": [
      "Hello World\n"
     ]
    }
   ],
   "source": [
    "print(\"Hello World\")"
   ]
  },
  {
   "cell_type": "code",
   "execution_count": 4,
   "id": "710062a0-d344-4efb-ad5c-ff254d69a7f8",
   "metadata": {},
   "outputs": [],
   "source": [
    "# Write a program to enter a basic salary\n",
    "# ask the user to enter DA Amount\n",
    "# ask the user to enter HRA Amount\n",
    "# calculate total pay = basic_salary + DA + HRA\n",
    "\n",
    "# eval(input)"
   ]
  },
  {
   "cell_type": "code",
   "execution_count": 10,
   "id": "d30f4f73-6ea4-49d5-a2a3-57a5675f6a71",
   "metadata": {},
   "outputs": [
    {
     "name": "stdout",
     "output_type": "stream",
     "text": [
      "Enter salary:  50000\n",
      "Enter DA Amount :  20000\n",
      "Enter HRA Amount:  10000\n"
     ]
    },
    {
     "name": "stdout",
     "output_type": "stream",
     "text": [
      "The Total Salary is:  80000\n"
     ]
    }
   ],
   "source": [
    "basic_salary = eval(input(\"Enter salary: \"))\n",
    "da_amount = eval(input(\"Enter DA Amount : \"))\n",
    "hra_amount = eval(input(\"Enter HRA Amount: \"))\n",
    "total_pay = basic_salary + da_amount + hra_amount\n",
    "print(\"The Total Salary is: \", total_pay)\n"
   ]
  },
  {
   "cell_type": "code",
   "execution_count": 12,
   "id": "2b8a77c1-b5b6-4d0a-9f80-6781137e5510",
   "metadata": {},
   "outputs": [
    {
     "name": "stdout",
     "output_type": "stream",
     "text": [
      "Enter Total Salary:  50000\n"
     ]
    },
    {
     "name": "stdout",
     "output_type": "stream",
     "text": [
      "The tax amount is:  12500.0\n"
     ]
    }
   ],
   "source": [
    "# Write a program to ask user total salary\n",
    "# ask the user tax percentage\n",
    "# calculate the tax amount user needs to pay\n",
    "# Tax Amount = total_salary * tax percentage / 100\n",
    "\n",
    "total_salary = eval(input(\"Enter Total Salary: \"))\n",
    "tax_percentage = 25\n",
    "tax_amount = total_salary * (tax_percentage / 100)\n",
    "print(\"The tax amount is: \", tax_amount)"
   ]
  },
  {
   "cell_type": "code",
   "execution_count": 33,
   "id": "7e6d10a9-4798-4bf9-b764-41b2beb8d6bc",
   "metadata": {},
   "outputs": [
    {
     "name": "stdout",
     "output_type": "stream",
     "text": [
      "The square of the number is:  4356\n",
      "The square of 66 is 4356\n"
     ]
    }
   ],
   "source": [
    "import random\n",
    "\n",
    "num_random = random.randint(1, 100)\n",
    "print(\"The square of the number is: \", num_random ** 2)\n",
    "print(\"The square of {} is {}\".format(num_random, num_random ** 2))"
   ]
  },
  {
   "cell_type": "code",
   "execution_count": 42,
   "id": "5462be02-2a16-4e2a-a2fb-617cc353d6a3",
   "metadata": {},
   "outputs": [
    {
     "name": "stdout",
     "output_type": "stream",
     "text": [
      "Enter the distance in Km:  20.2\n"
     ]
    },
    {
     "name": "stdout",
     "output_type": "stream",
     "text": [
      "The final amount for for 20.2 km is 40.4\n"
     ]
    }
   ],
   "source": [
    "# wap to ask the user enter a distance = 20 km\n",
    "# ask the user to enter the rate per km = 2\n",
    "# calculate the total charge\n",
    "\n",
    "user_distance = eval(input(\"Enter the distance in Km: \"))\n",
    "rate_km = 2\n",
    "total_charge = user_distance * 2\n",
    "print(\"The final amount for for {} km is {}\".format(user_distance, total_charge))"
   ]
  },
  {
   "cell_type": "code",
   "execution_count": 43,
   "id": "d0bcde03-982b-4b0d-a9f7-762792595c49",
   "metadata": {},
   "outputs": [
    {
     "name": "stdout",
     "output_type": "stream",
     "text": [
      "Sentence before timer\n",
      "Sentence after timer\n"
     ]
    }
   ],
   "source": [
    "import time\n",
    "\n",
    "print(\"Sentence before timer\")\n",
    "time.sleep(2) # 2 seconds\n",
    "print(\"Sentence after timer\")"
   ]
  },
  {
   "cell_type": "markdown",
   "id": "b80743aa-823e-406c-bc56-02c82af708a1",
   "metadata": {},
   "source": [
    "#### Some common errors in python.\n",
    "\n",
    "- Syntax Errors\n",
    "    - print(\"Hello\" # missing paranthesis\n",
    "    - print(type(some_var)\n",
    "    - if x > 10 # missing colon\n",
    "      \n",
    "- Indentation Errors\n",
    "    - def greet():\n",
    "    - print(\"Hello\")  # IndentationError\n",
    "\n",
    "\n",
    "- Name errors\n",
    "  - print(mssage) # mssage is not defined\n",
    "  - might be the case of typos, human made errors\n",
    "\n",
    "- Type Errors\n",
    "    - age = 25\n",
    "    - print(\"Your age is \" + age)  # TypeError: can only concatenate str (not \"int\") to str\n",
    "\n",
    "- Similarly, the below are some of the more common use cases when facing errors, as we get familiar to the program we will get used to identifying the rectifying the errors based on the error type, As a programmer it's very important to idenfity the error.\n",
    "\n",
    "- Index Errors\n",
    "\n",
    "- Key Errors\n",
    "\n",
    "- Attribute Errors\n",
    "\n",
    "- Value Errors\n",
    "\n",
    "- Import Errors / Module not found errors\n"
   ]
  },
  {
   "cell_type": "code",
   "execution_count": 60,
   "id": "8d65c25d-8e78-4957-8c28-00ef5abc1e42",
   "metadata": {},
   "outputs": [
    {
     "ename": "SyntaxError",
     "evalue": "unexpected EOF while parsing (2394522251.py, line 4)",
     "output_type": "error",
     "traceback": [
      "\u001b[0;36m  Cell \u001b[0;32mIn[60], line 4\u001b[0;36m\u001b[0m\n\u001b[0;31m    print(random.randint(1, 2)\u001b[0m\n\u001b[0m                              ^\u001b[0m\n\u001b[0;31mSyntaxError\u001b[0m\u001b[0;31m:\u001b[0m unexpected EOF while parsing\n"
     ]
    }
   ],
   "source": [
    "# syntax errors\n",
    "import random\n",
    "\n",
    "print(random.randint(1, 2) # missing paranthesis"
   ]
  },
  {
   "cell_type": "code",
   "execution_count": 61,
   "id": "ebf9aa3c-9e7c-4217-a988-4f12c18a001b",
   "metadata": {},
   "outputs": [
    {
     "ename": "SyntaxError",
     "evalue": "unexpected EOF while parsing (4227803888.py, line 1)",
     "output_type": "error",
     "traceback": [
      "\u001b[0;36m  Cell \u001b[0;32mIn[61], line 1\u001b[0;36m\u001b[0m\n\u001b[0;31m    print(\"hello\"\u001b[0m\n\u001b[0m                 ^\u001b[0m\n\u001b[0;31mSyntaxError\u001b[0m\u001b[0;31m:\u001b[0m unexpected EOF while parsing\n"
     ]
    }
   ],
   "source": [
    "print(\"hello\""
   ]
  },
  {
   "cell_type": "code",
   "execution_count": 69,
   "id": "b37d98e3-5d1d-4a84-803a-f8f20ef121fb",
   "metadata": {},
   "outputs": [
    {
     "ename": "IndentationError",
     "evalue": "expected an indented block (2701626434.py, line 2)",
     "output_type": "error",
     "traceback": [
      "\u001b[0;36m  Cell \u001b[0;32mIn[69], line 2\u001b[0;36m\u001b[0m\n\u001b[0;31m    print(\"Good Morning\")\u001b[0m\n\u001b[0m    ^\u001b[0m\n\u001b[0;31mIndentationError\u001b[0m\u001b[0;31m:\u001b[0m expected an indented block\n"
     ]
    }
   ],
   "source": [
    "# Indentation errors. Read about indentation in python\n",
    "def greet():\n",
    "print(\"Good Morning\")\n",
    "\n",
    "greet()"
   ]
  },
  {
   "cell_type": "code",
   "execution_count": 70,
   "id": "193fc8dd-54e9-44cc-bdbb-45116b355a79",
   "metadata": {},
   "outputs": [
    {
     "ename": "NameError",
     "evalue": "name 'num3' is not defined",
     "output_type": "error",
     "traceback": [
      "\u001b[0;31m---------------------------------------------------------------------------\u001b[0m",
      "\u001b[0;31mNameError\u001b[0m                                 Traceback (most recent call last)",
      "Cell \u001b[0;32mIn[70], line 5\u001b[0m\n\u001b[1;32m      3\u001b[0m num1 \u001b[38;5;241m=\u001b[39m \u001b[38;5;241m2\u001b[39m\n\u001b[1;32m      4\u001b[0m num2 \u001b[38;5;241m=\u001b[39m \u001b[38;5;241m5\u001b[39m\n\u001b[0;32m----> 5\u001b[0m num1 \u001b[38;5;241m+\u001b[39m \u001b[43mnum3\u001b[49m\n",
      "\u001b[0;31mNameError\u001b[0m: name 'num3' is not defined"
     ]
    }
   ],
   "source": [
    "# name errors\n",
    "\n",
    "num1 = 2\n",
    "num2 = 5\n",
    "num1 + num3 # num3 is not defined - \n"
   ]
  },
  {
   "cell_type": "code",
   "execution_count": 75,
   "id": "b04fc2f7-59e5-4103-b2cb-7fc5fe229262",
   "metadata": {},
   "outputs": [
    {
     "name": "stdout",
     "output_type": "stream",
     "text": [
      "Enter temp in F:  20\n"
     ]
    },
    {
     "ename": "TypeError",
     "evalue": "can only concatenate str (not \"int\") to str",
     "output_type": "error",
     "traceback": [
      "\u001b[0;31m---------------------------------------------------------------------------\u001b[0m",
      "\u001b[0;31mTypeError\u001b[0m                                 Traceback (most recent call last)",
      "Cell \u001b[0;32mIn[75], line 3\u001b[0m\n\u001b[1;32m      1\u001b[0m \u001b[38;5;66;03m# type error\u001b[39;00m\n\u001b[1;32m      2\u001b[0m user_temp \u001b[38;5;241m=\u001b[39m \u001b[38;5;28meval\u001b[39m(\u001b[38;5;28minput\u001b[39m(\u001b[38;5;124m\"\u001b[39m\u001b[38;5;124mEnter temp in F: \u001b[39m\u001b[38;5;124m\"\u001b[39m ))\n\u001b[0;32m----> 3\u001b[0m \u001b[38;5;28mprint\u001b[39m(\u001b[38;5;124;43m\"\u001b[39;49m\u001b[38;5;124;43mThe user temp is\u001b[39;49m\u001b[38;5;124;43m\"\u001b[39;49m\u001b[43m \u001b[49m\u001b[38;5;241;43m+\u001b[39;49m\u001b[43m \u001b[49m\u001b[43muser_temp\u001b[49m)\n",
      "\u001b[0;31mTypeError\u001b[0m: can only concatenate str (not \"int\") to str"
     ]
    }
   ],
   "source": [
    "# type error\n",
    "user_temp = eval(input(\"Enter temp in F: \" ))\n",
    "print(\"The user temp is\" + user_temp)"
   ]
  },
  {
   "cell_type": "code",
   "execution_count": 78,
   "id": "3027e871-80db-4b11-8944-c9b153ff12a0",
   "metadata": {},
   "outputs": [
    {
     "name": "stdout",
     "output_type": "stream",
     "text": [
      "Enter temp in F:  20\n"
     ]
    },
    {
     "name": "stdout",
     "output_type": "stream",
     "text": [
      "The user temp is: 20\n"
     ]
    }
   ],
   "source": [
    "# type error\n",
    "user_temp = input(\"Enter temp in F: \")\n",
    "print(\"The user temp is: \" + user_temp)"
   ]
  },
  {
   "cell_type": "markdown",
   "id": "d11eabe3-ca0f-46d2-a6ba-27e129587063",
   "metadata": {},
   "source": [
    "#### try-except block block of code in python\n",
    "\n",
    "- try-except block is used in python for error handling, allowing the program to catch exceptions and continue running instead of crashing."
   ]
  },
  {
   "cell_type": "raw",
   "id": "447bc080-54ef-4027-92b5-d639e9f12da0",
   "metadata": {},
   "source": [
    "# Basic try except\n",
    "try:\n",
    "    # code that might raise an error\n",
    "except:\n",
    "    # code that runs if *any* error occurs\n",
    "\n",
    "# try-except Exception\n",
    "# catches any error that's subclass of the built-in Exception class\n",
    "try:\n",
    "    # code that might raise an error\n",
    "except Exception:\n",
    "    # code that runs for most built-in exceptions\n",
    "# try-except SomeException\n",
    "try:\n",
    "    # code that might raise an error\n",
    "except SomeException:\n",
    "    # code that runs only if that specific error occurs\n",
    "\n",
    "Replace SomeException with a specific exception type like ValueError, IndexError, or FileNotFoundError.\n",
    "\n",
    "This is the best practice, because it targets specific errors and leaves others untouched."
   ]
  },
  {
   "cell_type": "code",
   "execution_count": 90,
   "id": "bc979822-6e48-4138-92f9-faa1d249ebc2",
   "metadata": {},
   "outputs": [
    {
     "name": "stdout",
     "output_type": "stream",
     "text": [
      "Enter a number 20\n"
     ]
    },
    {
     "name": "stdout",
     "output_type": "stream",
     "text": [
      "number can't be divide by 0\n"
     ]
    }
   ],
   "source": [
    "# example 1: Handling a simple error\n",
    "\n",
    "try:\n",
    "    # if the code inside the try block creates some error\n",
    "    x = int(input(\"Enter a number\"))\n",
    "    x = x / 0\n",
    "except:\n",
    "    # we are logging the error here\n",
    "    print(\"number can't be divide by 0\")"
   ]
  },
  {
   "cell_type": "code",
   "execution_count": 97,
   "id": "141da787-2ebc-473c-9f09-0dda9fcf8066",
   "metadata": {},
   "outputs": [
    {
     "name": "stdout",
     "output_type": "stream",
     "text": [
      "Enter temp:  sds\n"
     ]
    },
    {
     "name": "stdout",
     "output_type": "stream",
     "text": [
      "error\n"
     ]
    }
   ],
   "source": [
    "try:\n",
    "    temp1 = int(input(\"Enter temp: \"))\n",
    "except Exception as e:\n",
    "    print(\"error\")"
   ]
  },
  {
   "cell_type": "code",
   "execution_count": null,
   "id": "6247c298-cc57-4def-9daf-932776a1fee1",
   "metadata": {},
   "outputs": [],
   "source": [
    "# Example\n"
   ]
  },
  {
   "cell_type": "raw",
   "id": "7a1256db-9331-4ced-bc0f-1ad955e30964",
   "metadata": {},
   "source": [
    "Create a small calculator that:\n",
    "\n",
    "Takes two user inputs.\n",
    "\n",
    "Performs division.\n",
    "\n",
    "Catches errors if:\n",
    "\n",
    "The input is not a number.\n",
    "\n",
    "Division by zero occurs."
   ]
  },
  {
   "cell_type": "code",
   "execution_count": 107,
   "id": "4d115c3e-5509-469b-a984-f570aac51068",
   "metadata": {},
   "outputs": [
    {
     "name": "stdout",
     "output_type": "stream",
     "text": [
      "Enter user input 1: 2\n",
      "Enter user input 2: 0\n"
     ]
    },
    {
     "name": "stdout",
     "output_type": "stream",
     "text": [
      "not a valid division\n"
     ]
    }
   ],
   "source": [
    "try:\n",
    "    in1 = eval(input(\"Enter user input 1:\"))\n",
    "    in2 = eval(input(\"Enter user input 2:\"))\n",
    "except Exception as e:\n",
    "    print(\"Error! not a number\")\n",
    "try:\n",
    "    div = in1 / in2\n",
    "    print(div)\n",
    "except Exception:\n",
    "    print(\"not a valid division\")\n"
   ]
  },
  {
   "cell_type": "code",
   "execution_count": 109,
   "id": "3c4831eb-afbd-4bf4-8fe1-4f836941c4b4",
   "metadata": {},
   "outputs": [
    {
     "name": "stdout",
     "output_type": "stream",
     "text": [
      "Enter user input 1:  10\n",
      "Enter user input 2:  2d\n"
     ]
    },
    {
     "name": "stdout",
     "output_type": "stream",
     "text": [
      "Error: Please enter valid numbers\n"
     ]
    }
   ],
   "source": [
    "# clean version\n",
    "\n",
    "try:\n",
    "    num1 = float(input(\"Enter user input 1: \"))\n",
    "    num2 = float(input(\"Enter user input 2: \"))\n",
    "\n",
    "    try:\n",
    "        div = num1 / num2\n",
    "        print(\"Result is {}\".format(div))\n",
    "    except ZeroDivisionError:\n",
    "        print(\"Error! can't divide with zero\")\n",
    "        \n",
    "except ValueError:\n",
    "    print(\"Error: Please enter valid numbers\")"
   ]
  },
  {
   "cell_type": "code",
   "execution_count": null,
   "id": "d5863c57-f845-4ff2-b847-3bdb78a806e2",
   "metadata": {},
   "outputs": [],
   "source": []
  }
 ],
 "metadata": {
  "kernelspec": {
   "display_name": "myenv",
   "language": "python",
   "name": "python3"
  },
  "language_info": {
   "codemirror_mode": {
    "name": "ipython",
    "version": 3
   },
   "file_extension": ".py",
   "mimetype": "text/x-python",
   "name": "python",
   "nbconvert_exporter": "python",
   "pygments_lexer": "ipython3",
   "version": "3.13.3"
  }
 },
 "nbformat": 4,
 "nbformat_minor": 5
}
