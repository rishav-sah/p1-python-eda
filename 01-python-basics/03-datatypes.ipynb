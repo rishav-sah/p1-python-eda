{
 "cells": [
  {
   "cell_type": "markdown",
   "id": "ea33d698-36a0-4efc-acc8-b9b2d3dd836e",
   "metadata": {},
   "source": [
    "### Data Types\n",
    "\n",
    "- integer: int\n",
    "- float: float\n",
    "- string: str\n",
    "- boolean: bool\n",
    "- complex conjugate: complex"
   ]
  },
  {
   "cell_type": "markdown",
   "id": "b023b106-cb36-4d8b-b87c-4c1b58b7d083",
   "metadata": {},
   "source": [
    "$Integer$"
   ]
  },
  {
   "cell_type": "code",
   "execution_count": 1,
   "id": "88859f56-dd8f-48a3-827d-352e4c38230c",
   "metadata": {},
   "outputs": [
    {
     "data": {
      "text/plain": [
       "100"
      ]
     },
     "execution_count": 1,
     "metadata": {},
     "output_type": "execute_result"
    }
   ],
   "source": [
    "number = 100\n",
    "number"
   ]
  },
  {
   "cell_type": "code",
   "execution_count": 2,
   "id": "0398da9b-0e6b-4971-a8ec-65c5a4bd3c07",
   "metadata": {},
   "outputs": [
    {
     "data": {
      "text/plain": [
       "int"
      ]
     },
     "execution_count": 2,
     "metadata": {},
     "output_type": "execute_result"
    }
   ],
   "source": [
    "# type of the varaible: type\n",
    "type(number)"
   ]
  },
  {
   "cell_type": "markdown",
   "id": "0915675e-48e8-48c7-8645-9b504c8997b2",
   "metadata": {
    "jp-MarkdownHeadingCollapsed": true
   },
   "source": [
    "##### In math we have different number system\n",
    "- decimal - default (used in real life)\n",
    "- binary\n",
    "- octal\n",
    "- hexa"
   ]
  },
  {
   "cell_type": "markdown",
   "id": "2d5b3361-5dd9-495d-a780-d7fa6d5b0561",
   "metadata": {},
   "source": [
    "##### binary\n",
    "- Bi means 2\n",
    "- so the base is also 2\n",
    "- 0 1 2 3 4 5 6 7 8 9\n",
    "- we use only two digits 0 & 1\n",
    "- representation is : 0b<combinations of 0 and 1>\n",
    "- 0b110, 0B011101\n"
   ]
  },
  {
   "cell_type": "code",
   "execution_count": 4,
   "id": "ef56de94-8c5b-47bf-86f2-4b16ac23b031",
   "metadata": {},
   "outputs": [
    {
     "data": {
      "text/plain": [
       "7"
      ]
     },
     "execution_count": 4,
     "metadata": {},
     "output_type": "execute_result"
    }
   ],
   "source": [
    "0b111 # python output will be shown as decimal number system"
   ]
  },
  {
   "cell_type": "code",
   "execution_count": 6,
   "id": "69b91719-fd0a-4714-bdba-e62a4c576c0a",
   "metadata": {},
   "outputs": [
    {
     "data": {
      "text/plain": [
       "15"
      ]
     },
     "execution_count": 6,
     "metadata": {},
     "output_type": "execute_result"
    }
   ],
   "source": [
    "0B1111"
   ]
  },
  {
   "cell_type": "raw",
   "id": "dcd0e0bd-516c-40f0-8e0f-89bc8ea2c987",
   "metadata": {},
   "source": [
    "4-bit binary number with place values 8, 4, 2, and 1.\n",
    "8\t4\t2\t1\tDecimal Output\n",
    "0\t0\t0\t0\t0×8+0×4+0×2+0×1=0\n",
    "0\t0\t0\t1\t0×8+0×4+0×2+1×1=1\n",
    "0\t0\t1\t0\t0×8+0×4+1×2+0×1=2\n",
    "0\t0\t1\t1\t0×8+0×4+1×2+1×1=3\n",
    "0\t1\t0\t0\t0×8+1×4+0×2+0×1=4\n",
    "0\t1\t0\t1\t0×8+1×4+0×2+1×1=5\n",
    "0\t1\t1\t0\t0×8+1×4+1×2+0×1=6\n",
    "0\t1\t1\t1\t0×8+1×4+1×2+1×1=7\n",
    "1\t0\t0\t0\t1×8+0×4+0×2+0×1=8\n",
    "1\t0\t0\t1\t1×8+0×4+0×2+1×1=9\n",
    "1\t0\t1\t0\t1×8+0×4+1×2+0×1=10\n",
    "1\t0\t1\t1\t1×8+0×4+1×2+1×1=11\n",
    "1\t1\t0\t0\t1×8+1×4+0×2+0×1=12\n",
    "1\t1\t0\t1\t1×8+1×4+0×2+1×1=13\n",
    "1\t1\t1\t0\t1×8+1×4+1×2+0×1=14\n",
    "1\t1\t1\t1\t1×8+1×4+1×2+1×1=15"
   ]
  },
  {
   "cell_type": "code",
   "execution_count": 7,
   "id": "997c4a7c-d4ca-4dc1-98a9-94a463a61d34",
   "metadata": {},
   "outputs": [
    {
     "data": {
      "text/plain": [
       "14"
      ]
     },
     "execution_count": 7,
     "metadata": {},
     "output_type": "execute_result"
    }
   ],
   "source": [
    "0b1110"
   ]
  },
  {
   "cell_type": "markdown",
   "id": "8b024505-f474-4aca-baa6-18bb35aebf54",
   "metadata": {},
   "source": [
    "octa\n",
    "- octa means 8\n",
    "- base is 8\n",
    "- 0, 1, 2, 3, 4, 5, 6, 7\n",
    "- here we use 8 digits: (0 to 7)\n",
    "- representation: 0o<combination of 0-7>\n",
    "- 0o123, 0o345"
   ]
  },
  {
   "cell_type": "code",
   "execution_count": 8,
   "id": "4dff9f21-2b08-4457-85bf-443ea22c0fbb",
   "metadata": {},
   "outputs": [
    {
     "data": {
      "text/plain": [
       "83"
      ]
     },
     "execution_count": 8,
     "metadata": {},
     "output_type": "execute_result"
    }
   ],
   "source": [
    "0o123"
   ]
  },
  {
   "cell_type": "code",
   "execution_count": 10,
   "id": "10943621-d115-4bd2-83da-3d0edfad8993",
   "metadata": {},
   "outputs": [
    {
     "data": {
      "text/plain": [
       "501"
      ]
     },
     "execution_count": 10,
     "metadata": {},
     "output_type": "execute_result"
    }
   ],
   "source": [
    "0O765"
   ]
  },
  {
   "cell_type": "markdown",
   "id": "c49b669e-23ef-4249-8b75-ad711646c127",
   "metadata": {},
   "source": [
    "hexa\n",
    "- hexa means 16\n",
    "- base is 16\n",
    "- 0 1 2 3 4 5 6 7 8 9 A B C D E F\n",
    "- here we use 16 digits: (0 to 9 & A to F)\n",
    "- representation: 0x<combinations of 0-9 & A-F)\n",
    "- 0x02A"
   ]
  },
  {
   "cell_type": "code",
   "execution_count": 19,
   "id": "67084f11-2633-462c-bdd8-fa34342e3bd6",
   "metadata": {},
   "outputs": [
    {
     "data": {
      "text/plain": [
       "4666"
      ]
     },
     "execution_count": 19,
     "metadata": {},
     "output_type": "execute_result"
    }
   ],
   "source": [
    "0x123A"
   ]
  },
  {
   "cell_type": "code",
   "execution_count": 14,
   "id": "1a7b1912-5993-4dcb-84e5-8efd1a09e99d",
   "metadata": {},
   "outputs": [
    {
     "data": {
      "text/plain": [
       "2748"
      ]
     },
     "execution_count": 14,
     "metadata": {},
     "output_type": "execute_result"
    }
   ],
   "source": [
    "0xabc"
   ]
  },
  {
   "cell_type": "markdown",
   "id": "f97a77db-0ca1-402c-8a96-afedd8121cb8",
   "metadata": {},
   "source": [
    "$float$"
   ]
  },
  {
   "cell_type": "code",
   "execution_count": 24,
   "id": "b1e65b1a-e0d8-4858-a33e-d6b6f937006a",
   "metadata": {},
   "outputs": [
    {
     "data": {
      "text/plain": [
       "123.5"
      ]
     },
     "execution_count": 24,
     "metadata": {},
     "output_type": "execute_result"
    }
   ],
   "source": [
    "number1 = 123.5\n",
    "number1"
   ]
  },
  {
   "cell_type": "code",
   "execution_count": 22,
   "id": "e3329bf7-4b5c-406e-84bb-2d222a90c080",
   "metadata": {},
   "outputs": [
    {
     "data": {
      "text/plain": [
       "float"
      ]
     },
     "execution_count": 22,
     "metadata": {},
     "output_type": "execute_result"
    }
   ],
   "source": [
    "type(num1)"
   ]
  },
  {
   "cell_type": "markdown",
   "id": "c82b9793-e316-4838-9125-708348d839c7",
   "metadata": {},
   "source": [
    "$e$ representation"
   ]
  },
  {
   "cell_type": "code",
   "execution_count": 26,
   "id": "8a34c456-9364-4614-98dd-9afd1a572787",
   "metadata": {},
   "outputs": [
    {
     "data": {
      "text/plain": [
       "10000.0"
      ]
     },
     "execution_count": 26,
     "metadata": {},
     "output_type": "execute_result"
    }
   ],
   "source": [
    "10e3 # 10 * 1000 = 10000"
   ]
  },
  {
   "cell_type": "code",
   "execution_count": 28,
   "id": "bb7ac9c2-50f5-4d30-b587-36c804164a9a",
   "metadata": {},
   "outputs": [
    {
     "data": {
      "text/plain": [
       "10000.0"
      ]
     },
     "execution_count": 28,
     "metadata": {},
     "output_type": "execute_result"
    }
   ],
   "source": [
    "10e+3 # 10e3 and 10e+3 both are same"
   ]
  },
  {
   "cell_type": "code",
   "execution_count": 30,
   "id": "0b93a729-c74e-4b21-a544-c5e51881df1a",
   "metadata": {},
   "outputs": [
    {
     "data": {
      "text/plain": [
       "100000.0"
      ]
     },
     "execution_count": 30,
     "metadata": {},
     "output_type": "execute_result"
    }
   ],
   "source": [
    "1e+5"
   ]
  },
  {
   "cell_type": "code",
   "execution_count": 32,
   "id": "0841473e-b3b5-46eb-90dd-a6d80eca9340",
   "metadata": {},
   "outputs": [
    {
     "data": {
      "text/plain": [
       "0.01"
      ]
     },
     "execution_count": 32,
     "metadata": {},
     "output_type": "execute_result"
    }
   ],
   "source": [
    "10e-3 # 10/1000 = 1/100 = 0.01"
   ]
  },
  {
   "cell_type": "code",
   "execution_count": 33,
   "id": "d0ebce19-0f2b-4038-9675-afd09fc26411",
   "metadata": {},
   "outputs": [],
   "source": [
    "# ML === output as zero\n",
    "# 0.0000000000000000123\n",
    "# 123e-10= 123/10000000000 = 0.0000000123"
   ]
  },
  {
   "cell_type": "code",
   "execution_count": 36,
   "id": "9f8d5614-7e86-40fb-ba1a-d6e46b93395f",
   "metadata": {},
   "outputs": [
    {
     "data": {
      "text/plain": [
       "1.23e-08"
      ]
     },
     "execution_count": 36,
     "metadata": {},
     "output_type": "execute_result"
    }
   ],
   "source": [
    "123e-10"
   ]
  },
  {
   "cell_type": "code",
   "execution_count": 37,
   "id": "4ec6f284-e4b3-414a-b5ac-818a025d4126",
   "metadata": {},
   "outputs": [
    {
     "data": {
      "text/plain": [
       "1.23e-08"
      ]
     },
     "execution_count": 37,
     "metadata": {},
     "output_type": "execute_result"
    }
   ],
   "source": [
    "0.0000000123"
   ]
  },
  {
   "cell_type": "code",
   "execution_count": 38,
   "id": "19c78ff4-2b67-4a81-abf2-1db65e50fcc4",
   "metadata": {},
   "outputs": [],
   "source": [
    "# e representation because of bit limitation in python. Python works on 64 bits"
   ]
  },
  {
   "cell_type": "markdown",
   "id": "9e6bf288-f9f2-40fb-8751-b8b23fb5392d",
   "metadata": {},
   "source": [
    "$Strings$"
   ]
  },
  {
   "cell_type": "code",
   "execution_count": 41,
   "id": "21f8668f-daf5-4682-b6cb-205241d85f82",
   "metadata": {},
   "outputs": [
    {
     "data": {
      "text/plain": [
       "str"
      ]
     },
     "execution_count": 41,
     "metadata": {},
     "output_type": "execute_result"
    }
   ],
   "source": [
    "name=\"python\" # characters inside the quotes are called as strings\n",
    "type(name)"
   ]
  },
  {
   "cell_type": "code",
   "execution_count": 44,
   "id": "bb5176cc-dc04-4519-9a4a-113a411de865",
   "metadata": {},
   "outputs": [],
   "source": [
    "name1 = 'hi! '\n",
    "name2 = 'how are you'"
   ]
  },
  {
   "cell_type": "code",
   "execution_count": 45,
   "id": "17a73a31-80df-4bf1-b10e-0394e2f60ba8",
   "metadata": {},
   "outputs": [
    {
     "data": {
      "text/plain": [
       "'hi! how are you'"
      ]
     },
     "execution_count": 45,
     "metadata": {},
     "output_type": "execute_result"
    }
   ],
   "source": [
    "name1+name2"
   ]
  },
  {
   "cell_type": "code",
   "execution_count": 52,
   "id": "a2a6dea4-c0c4-4294-870e-2b8467520727",
   "metadata": {},
   "outputs": [
    {
     "data": {
      "text/plain": [
       "'Hi! \\n        How are you\\n        '"
      ]
     },
     "execution_count": 52,
     "metadata": {},
     "output_type": "execute_result"
    }
   ],
   "source": [
    "# when writing multiple lines, we can use triple quotes\n",
    "\n",
    "name3 = \"\"\"Hi! \n",
    "        How are you\n",
    "        \"\"\"\n",
    "name3\n",
    "\n",
    "# doc string - Important while writing story in case notebook not available\n",
    "# for example, check any package.py file, there is some meta info available of the package\n"
   ]
  },
  {
   "cell_type": "markdown",
   "id": "b70ff7fd-494b-4bd8-85e3-d4305b4c570f",
   "metadata": {},
   "source": [
    "##### Summarizing the above\n",
    "\n",
    "- Integer\n",
    "    - Binary\n",
    "    - Octal\n",
    "    - Hexa\n",
    "- Float\n",
    "- String\n",
    "    - single quotes\n",
    "    - double quotes\n",
    "    - tripple quotes "
   ]
  },
  {
   "cell_type": "code",
   "execution_count": 54,
   "id": "63679960-4fc5-4765-874c-8aafe097f3f3",
   "metadata": {},
   "outputs": [
    {
     "data": {
      "text/plain": [
       "False"
      ]
     },
     "execution_count": 54,
     "metadata": {},
     "output_type": "execute_result"
    }
   ],
   "source": [
    "# Boolean\n",
    "# The computer shows the result True of False (0 & 1)\n",
    "True # keyword\n",
    "False # keyword"
   ]
  },
  {
   "cell_type": "code",
   "execution_count": 58,
   "id": "b32c0bfb-c467-4908-b793-ad4675243be3",
   "metadata": {},
   "outputs": [
    {
     "data": {
      "text/plain": [
       "bool"
      ]
     },
     "execution_count": 58,
     "metadata": {},
     "output_type": "execute_result"
    }
   ],
   "source": [
    "value1 = False\n",
    "type(value1)"
   ]
  },
  {
   "cell_type": "code",
   "execution_count": 59,
   "id": "9e0e9a31-b683-42b8-9b18-5d869bf80d36",
   "metadata": {},
   "outputs": [
    {
     "data": {
      "text/plain": [
       "bool"
      ]
     },
     "execution_count": 59,
     "metadata": {},
     "output_type": "execute_result"
    }
   ],
   "source": [
    "value2 = True\n",
    "type(value2)"
   ]
  },
  {
   "cell_type": "code",
   "execution_count": 66,
   "id": "05511f19-69b9-4ff9-8fbb-839ad0ec9a45",
   "metadata": {},
   "outputs": [],
   "source": [
    "true = 100"
   ]
  },
  {
   "cell_type": "code",
   "execution_count": 67,
   "id": "1c5a33d1-365d-4420-b97c-13597347b1d9",
   "metadata": {},
   "outputs": [],
   "source": [
    "name1=True # boolean\n",
    "name2=true # true is var\n",
    "name3=\"True\" # string"
   ]
  },
  {
   "cell_type": "code",
   "execution_count": 69,
   "id": "6aecbc21-a5aa-475d-8057-d5f31206f880",
   "metadata": {},
   "outputs": [
    {
     "data": {
      "text/plain": [
       "100"
      ]
     },
     "execution_count": 69,
     "metadata": {},
     "output_type": "execute_result"
    }
   ],
   "source": [
    "name2"
   ]
  },
  {
   "cell_type": "markdown",
   "id": "0f55faf0-a97c-4c29-916f-faeae243f18b",
   "metadata": {},
   "source": [
    "##### Complex-Conjugate\n",
    "- a+jb or a+ib\n",
    "- where a = real no. & b = imaginary no., i = sqrt(-1)"
   ]
  },
  {
   "cell_type": "code",
   "execution_count": 87,
   "id": "dea11c33-3c90-4812-9c96-132bd4703777",
   "metadata": {},
   "outputs": [],
   "source": [
    "num5=3+5j"
   ]
  },
  {
   "cell_type": "code",
   "execution_count": 88,
   "id": "9fdd5d35-f18b-406a-a095-1edde3e8a41a",
   "metadata": {},
   "outputs": [
    {
     "data": {
      "text/plain": [
       "complex"
      ]
     },
     "execution_count": 88,
     "metadata": {},
     "output_type": "execute_result"
    }
   ],
   "source": [
    "type(num5)"
   ]
  },
  {
   "cell_type": "code",
   "execution_count": 90,
   "id": "807f4bd6-4ed6-4f5b-a1e4-ebe663a1e19d",
   "metadata": {},
   "outputs": [
    {
     "data": {
      "text/plain": [
       "['__abs__',\n",
       " '__add__',\n",
       " '__bool__',\n",
       " '__class__',\n",
       " '__delattr__',\n",
       " '__dir__',\n",
       " '__divmod__',\n",
       " '__doc__',\n",
       " '__eq__',\n",
       " '__float__',\n",
       " '__floordiv__',\n",
       " '__format__',\n",
       " '__ge__',\n",
       " '__getattribute__',\n",
       " '__getnewargs__',\n",
       " '__gt__',\n",
       " '__hash__',\n",
       " '__init__',\n",
       " '__init_subclass__',\n",
       " '__int__',\n",
       " '__le__',\n",
       " '__lt__',\n",
       " '__mod__',\n",
       " '__mul__',\n",
       " '__ne__',\n",
       " '__neg__',\n",
       " '__new__',\n",
       " '__pos__',\n",
       " '__pow__',\n",
       " '__radd__',\n",
       " '__rdivmod__',\n",
       " '__reduce__',\n",
       " '__reduce_ex__',\n",
       " '__repr__',\n",
       " '__rfloordiv__',\n",
       " '__rmod__',\n",
       " '__rmul__',\n",
       " '__rpow__',\n",
       " '__rsub__',\n",
       " '__rtruediv__',\n",
       " '__setattr__',\n",
       " '__sizeof__',\n",
       " '__str__',\n",
       " '__sub__',\n",
       " '__subclasshook__',\n",
       " '__truediv__',\n",
       " 'conjugate',\n",
       " 'imag',\n",
       " 'real']"
      ]
     },
     "execution_count": 90,
     "metadata": {},
     "output_type": "execute_result"
    }
   ],
   "source": [
    "dir(num5)"
   ]
  },
  {
   "cell_type": "code",
   "execution_count": 91,
   "id": "4854cad6-d4fa-4f88-b82c-f8f90ca92fb5",
   "metadata": {},
   "outputs": [
    {
     "data": {
      "text/plain": [
       "3.0"
      ]
     },
     "execution_count": 91,
     "metadata": {},
     "output_type": "execute_result"
    }
   ],
   "source": [
    "num5.real # <pName>.<method>"
   ]
  },
  {
   "cell_type": "code",
   "execution_count": 92,
   "id": "d849953b-735b-4efe-aa01-258808fc4346",
   "metadata": {},
   "outputs": [
    {
     "data": {
      "text/plain": [
       "5.0"
      ]
     },
     "execution_count": 92,
     "metadata": {},
     "output_type": "execute_result"
    }
   ],
   "source": [
    "num5.imag"
   ]
  },
  {
   "cell_type": "code",
   "execution_count": 98,
   "id": "71d9ec98-c6e6-4a3b-bca4-236d7a00ee33",
   "metadata": {},
   "outputs": [
    {
     "data": {
      "text/plain": [
       "<function complex.conjugate>"
      ]
     },
     "execution_count": 98,
     "metadata": {},
     "output_type": "execute_result"
    }
   ],
   "source": [
    "num5.conjugate"
   ]
  },
  {
   "cell_type": "code",
   "execution_count": null,
   "id": "b4353335-f3c5-4868-8d9b-61a6278b7c23",
   "metadata": {},
   "outputs": [],
   "source": [
    "num5.conjugate()"
   ]
  },
  {
   "cell_type": "code",
   "execution_count": 99,
   "id": "fce8944f-00b7-4033-927f-43269ac595e9",
   "metadata": {},
   "outputs": [
    {
     "data": {
      "text/plain": [
       "(3-5j)"
      ]
     },
     "execution_count": 99,
     "metadata": {},
     "output_type": "execute_result"
    }
   ],
   "source": [
    "num5.conjugate()"
   ]
  },
  {
   "cell_type": "code",
   "execution_count": 102,
   "id": "b15bf879-c285-4b04-978d-8083b15efc18",
   "metadata": {},
   "outputs": [
    {
     "name": "stdout",
     "output_type": "stream",
     "text": [
      "3.0\n",
      "-5.0\n",
      "(3+5j)\n"
     ]
    }
   ],
   "source": [
    "num6 = 3-5j\n",
    "print(num6.real)\n",
    "print(num6.imag)\n",
    "print(num6.conjugate())"
   ]
  },
  {
   "cell_type": "code",
   "execution_count": 104,
   "id": "543bb42a-440d-49c6-82b9-3c4a6b97a932",
   "metadata": {},
   "outputs": [
    {
     "data": {
      "text/plain": [
       "(4-10j)"
      ]
     },
     "execution_count": 104,
     "metadata": {},
     "output_type": "execute_result"
    }
   ],
   "source": [
    "complex(2, 3)\n",
    "complex(4, -10)"
   ]
  },
  {
   "cell_type": "code",
   "execution_count": 105,
   "id": "5babfea1-a204-4e5c-bc31-179e0d88c4d2",
   "metadata": {},
   "outputs": [
    {
     "data": {
      "text/plain": [
       "0j"
      ]
     },
     "execution_count": 105,
     "metadata": {},
     "output_type": "execute_result"
    }
   ],
   "source": [
    "complex()"
   ]
  },
  {
   "cell_type": "code",
   "execution_count": 111,
   "id": "743caad2-1b12-47d9-9dd6-c91569867135",
   "metadata": {},
   "outputs": [
    {
     "ename": "TypeError",
     "evalue": "randint() missing 2 required positional arguments: 'a' and 'b'",
     "output_type": "error",
     "traceback": [
      "\u001b[0;31m---------------------------------------------------------------------------\u001b[0m",
      "\u001b[0;31mTypeError\u001b[0m                                 Traceback (most recent call last)",
      "Cell \u001b[0;32mIn[111], line 4\u001b[0m\n\u001b[1;32m      1\u001b[0m \u001b[38;5;28;01mimport\u001b[39;00m \u001b[38;5;21;01mrandom\u001b[39;00m\n\u001b[1;32m      2\u001b[0m \u001b[38;5;28;01mimport\u001b[39;00m \u001b[38;5;21;01mmath\u001b[39;00m\n\u001b[0;32m----> 4\u001b[0m \u001b[43mrandom\u001b[49m\u001b[38;5;241;43m.\u001b[39;49m\u001b[43mrandint\u001b[49m\u001b[43m(\u001b[49m\u001b[43m)\u001b[49m \u001b[38;5;66;03m# error\u001b[39;00m\n\u001b[1;32m      5\u001b[0m math\u001b[38;5;241m.\u001b[39msin() \u001b[38;5;66;03m# error\u001b[39;00m\n\u001b[1;32m      6\u001b[0m \u001b[38;5;28mcomplex\u001b[39m() \u001b[38;5;66;03m# no error\u001b[39;00m\n",
      "\u001b[0;31mTypeError\u001b[0m: randint() missing 2 required positional arguments: 'a' and 'b'"
     ]
    }
   ],
   "source": [
    "import random\n",
    "import math\n",
    "\n",
    "random.randint() # error because requires 2 positional arguments (use shift tab to check)\n",
    "math.sin() # error - math.sin takes only one args\n",
    "complex() # no error (0j), because it's considering default args"
   ]
  },
  {
   "cell_type": "code",
   "execution_count": null,
   "id": "c57a121a-83a1-41c8-9850-e1526de3f7f5",
   "metadata": {},
   "outputs": [],
   "source": [
    "random.randint(a,b)\n",
    "math.sin(x, /)\n",
    "complex(real=0, imag=0)"
   ]
  },
  {
   "cell_type": "code",
   "execution_count": null,
   "id": "0783f64f-c55c-4ad9-bcfc-12309fce459e",
   "metadata": {},
   "outputs": [],
   "source": []
  }
 ],
 "metadata": {
  "kernelspec": {
   "display_name": "myenv",
   "language": "python",
   "name": "python3"
  },
  "language_info": {
   "codemirror_mode": {
    "name": "ipython",
    "version": 3
   },
   "file_extension": ".py",
   "mimetype": "text/x-python",
   "name": "python",
   "nbconvert_exporter": "python",
   "pygments_lexer": "ipython3",
   "version": "3.13.3"
  }
 },
 "nbformat": 4,
 "nbformat_minor": 5
}
