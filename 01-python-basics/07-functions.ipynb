{
 "cells": [
  {
   "cell_type": "markdown",
   "id": "6ca2c4fa-e680-48a7-be22-666f00ede04b",
   "metadata": {},
   "source": [
    "#### Functions\n",
    "\n",
    "- re-usable block of code built for specific task.\n",
    "- functions are mainly used reducing code redundancy\n",
    "- "
   ]
  },
  {
   "cell_type": "raw",
   "id": "b7993e40-f505-4b86-8313-acffb34d4102",
   "metadata": {},
   "source": [
    "#def - means defining the function\n",
    "def func_name(param1, param2): # function definiton\n",
    "# some work\n",
    "    return val\n"
   ]
  },
  {
   "cell_type": "code",
   "execution_count": 1,
   "id": "53d79651-7db5-49de-b449-e9a9c8591ab5",
   "metadata": {},
   "outputs": [],
   "source": [
    "def greet():\n",
    "    print(\"Hello! Good Morning\")"
   ]
  },
  {
   "cell_type": "code",
   "execution_count": 2,
   "id": "a8033f9b-642b-49b6-8033-355e79907ce2",
   "metadata": {},
   "outputs": [
    {
     "name": "stdout",
     "output_type": "stream",
     "text": [
      "Hello! Good Morning\n"
     ]
    }
   ],
   "source": [
    "greet()"
   ]
  },
  {
   "cell_type": "code",
   "execution_count": 8,
   "id": "88cc9444-fba1-4153-81cf-e58543e517ac",
   "metadata": {},
   "outputs": [
    {
     "name": "stdout",
     "output_type": "stream",
     "text": [
      "7\n",
      "3\n",
      "30\n"
     ]
    }
   ],
   "source": [
    "def cal_sum(a, b): # parameters\n",
    "    result = a + b\n",
    "    print(result)\n",
    "    return result\n",
    "\n",
    "cal_sum(2, 5) # calling or invoking the function (2, 5) are the function arguments\n",
    "\n",
    "sum1 = cal_sum(1, 2) # function call\n",
    "sum2 = cal_sum(10, 20)"
   ]
  },
  {
   "cell_type": "code",
   "execution_count": 9,
   "id": "6d48811a-490b-42f8-a606-004cd57a48b1",
   "metadata": {},
   "outputs": [],
   "source": [
    "def print_hello():\n",
    "    print(\"Hello\")"
   ]
  },
  {
   "cell_type": "code",
   "execution_count": 11,
   "id": "86127c65-c10a-410d-bdd2-5211f68cdb15",
   "metadata": {},
   "outputs": [
    {
     "name": "stdout",
     "output_type": "stream",
     "text": [
      "Hello\n",
      "Hello\n",
      "Hello\n"
     ]
    }
   ],
   "source": [
    "print_hello()\n",
    "print_hello()\n",
    "print_hello()"
   ]
  },
  {
   "cell_type": "code",
   "execution_count": 15,
   "id": "96463975-2353-4d81-99b8-c03647318ddd",
   "metadata": {},
   "outputs": [
    {
     "name": "stdout",
     "output_type": "stream",
     "text": [
      "Hello\n",
      "None\n"
     ]
    }
   ],
   "source": [
    "output = print_hello()\n",
    "print(output) # None: because function doesn't return anything"
   ]
  },
  {
   "cell_type": "code",
   "execution_count": 18,
   "id": "f6dffb11-085e-4e00-b4dd-26aeec9ad7f1",
   "metadata": {},
   "outputs": [
    {
     "name": "stdout",
     "output_type": "stream",
     "text": [
      "3.0\n",
      "94.0\n"
     ]
    },
    {
     "data": {
      "text/plain": [
       "94.0"
      ]
     },
     "execution_count": 18,
     "metadata": {},
     "output_type": "execute_result"
    }
   ],
   "source": [
    "# function to calculate the average of 3 numbers\n",
    "def calc_avg(a, b, c):\n",
    "    result = a+b+c\n",
    "    avg = result / 3\n",
    "    print(avg)\n",
    "    return avg\n",
    "\n",
    "calc_avg(2, 3, 4)\n",
    "calc_avg(100, 98, 84)"
   ]
  },
  {
   "cell_type": "markdown",
   "id": "c18be3de-71bc-4dbc-b124-b8e21a51ea47",
   "metadata": {},
   "source": [
    "#### Types of functions\n",
    "- Built-in functions: written by python itself that performs standard tasks\n",
    "    - print(), len(), range(), type()\n",
    "- User defined functions: Functions written by programmer not written by pytho\n",
    "   "
   ]
  },
  {
   "cell_type": "code",
   "execution_count": 43,
   "id": "a756dd01-ad41-4935-945d-d56f590fcfa5",
   "metadata": {},
   "outputs": [
    {
     "name": "stdout",
     "output_type": "stream",
     "text": [
      "testing print built-in function\n",
      "Rishav Sah\n",
      "Rishav, Sah\n",
      "Rishav Sah\n",
      "range(1, 5)\n"
     ]
    }
   ],
   "source": [
    "# using built-in functions\n",
    "\n",
    "print(\"testing print built-in function\")\n",
    "print(\"Rishav\", \"Sah\", sep=\" \")\n",
    "print(\"Rishav\", \"Sah\", sep=\", \")\n",
    "print(\"Rishav\", end=\" \") # ending by extra space, default is \\n - new line\n",
    "print(\"Sah\")\n",
    "\n",
    "len(\"Rishav\")"
   ]
  },
  {
   "cell_type": "markdown",
   "id": "81b8058b-8ac2-4be3-8000-632ad568585b",
   "metadata": {},
   "source": [
    "#### default parameters"
   ]
  },
  {
   "cell_type": "code",
   "execution_count": 45,
   "id": "d14403fa-b878-44f9-811c-407161d84830",
   "metadata": {},
   "outputs": [
    {
     "ename": "TypeError",
     "evalue": "calc_prod() missing 1 required positional argument: 'b'",
     "output_type": "error",
     "traceback": [
      "\u001b[31m---------------------------------------------------------------------------\u001b[39m",
      "\u001b[31mTypeError\u001b[39m                                 Traceback (most recent call last)",
      "\u001b[36mCell\u001b[39m\u001b[36m \u001b[39m\u001b[32mIn[45]\u001b[39m\u001b[32m, line 6\u001b[39m\n\u001b[32m      3\u001b[39m     \u001b[38;5;28;01mreturn\u001b[39;00m prod\n\u001b[32m      5\u001b[39m calc_prod(\u001b[32m5\u001b[39m, \u001b[32m6\u001b[39m)\n\u001b[32m----> \u001b[39m\u001b[32m6\u001b[39m \u001b[43mcalc_prod\u001b[49m\u001b[43m(\u001b[49m\u001b[32;43m5\u001b[39;49m\u001b[43m)\u001b[49m\n",
      "\u001b[31mTypeError\u001b[39m: calc_prod() missing 1 required positional argument: 'b'"
     ]
    }
   ],
   "source": [
    "def calc_prod(a, b):\n",
    "    prod = a * b\n",
    "    return prod\n",
    "\n",
    "calc_prod(5, 6)\n",
    "calc_prod(5) # TypeError: missing 1 required positional argument : 'b'"
   ]
  },
  {
   "cell_type": "code",
   "execution_count": 48,
   "id": "efe20686-0bf8-4639-824b-30686ed6d5a4",
   "metadata": {},
   "outputs": [
    {
     "data": {
      "text/plain": [
       "2"
      ]
     },
     "execution_count": 48,
     "metadata": {},
     "output_type": "execute_result"
    }
   ],
   "source": [
    "def calc_prod(a = 1, b = 2):\n",
    "    prod = a * b\n",
    "    return prod\n",
    "\n",
    "calc_prod()"
   ]
  },
  {
   "cell_type": "code",
   "execution_count": 49,
   "id": "fdacbd7c-adab-4878-b838-09f325b4a577",
   "metadata": {},
   "outputs": [
    {
     "data": {
      "text/plain": [
       "4"
      ]
     },
     "execution_count": 49,
     "metadata": {},
     "output_type": "execute_result"
    }
   ],
   "source": [
    "def calc_prod(a, b = 2):\n",
    "    prod = a * b\n",
    "    return prod\n",
    "\n",
    "calc_prod(2)"
   ]
  },
  {
   "cell_type": "code",
   "execution_count": 54,
   "id": "96085b61-6b66-4bb2-9a3b-f664dda74a4e",
   "metadata": {},
   "outputs": [
    {
     "ename": "SyntaxError",
     "evalue": "parameter without a default follows parameter with a default (1980962013.py, line 1)",
     "output_type": "error",
     "traceback": [
      "  \u001b[36mCell\u001b[39m\u001b[36m \u001b[39m\u001b[32mIn[54]\u001b[39m\u001b[32m, line 1\u001b[39m\n\u001b[31m    \u001b[39m\u001b[31mdef calc_prod(a = 2, b): # SyntaxError: non-default argument follows a default argument\u001b[39m\n                         ^\n\u001b[31mSyntaxError\u001b[39m\u001b[31m:\u001b[39m parameter without a default follows parameter with a default\n"
     ]
    }
   ],
   "source": [
    "def calc_prod(a = 2, b): # SyntaxError: non-default argument follows a default argument, simply, default argument must be at last\n",
    "    prod = a * b\n",
    "    return prod\n",
    "\n",
    "calc_prod(2, 2)"
   ]
  },
  {
   "cell_type": "code",
   "execution_count": 57,
   "id": "e44ca592-fa98-422b-9a64-c9b8c2f6ff67",
   "metadata": {},
   "outputs": [
    {
     "data": {
      "text/plain": [
       "1020"
      ]
     },
     "execution_count": 57,
     "metadata": {},
     "output_type": "execute_result"
    }
   ],
   "source": [
    "#### A simple program to convert usd to inr\n",
    "\n",
    "def usdToInr(usd):\n",
    "    inr_amt = usd * 85\n",
    "    return inr_amt\n",
    "\n",
    "usdToInr(12)\n"
   ]
  },
  {
   "cell_type": "code",
   "execution_count": 58,
   "id": "cf34e8b0-3772-4b78-8aad-f98684d03f11",
   "metadata": {},
   "outputs": [
    {
     "data": {
      "text/plain": [
       "4"
      ]
     },
     "execution_count": 58,
     "metadata": {},
     "output_type": "execute_result"
    }
   ],
   "source": [
    "cities = [\"Miami\", \"New York\", \"Orlando\", \"Jersey\"]\n",
    "len(cities)"
   ]
  },
  {
   "cell_type": "code",
   "execution_count": 72,
   "id": "3bf01770-e8e5-49f8-88e6-29fcfd8f7ee9",
   "metadata": {},
   "outputs": [
    {
     "data": {
      "text/plain": [
       "'odd'"
      ]
     },
     "execution_count": 72,
     "metadata": {},
     "output_type": "execute_result"
    }
   ],
   "source": [
    "# check even or odd\n",
    "\n",
    "def checkEvenOdd(num):\n",
    "    try:\n",
    "        if (int(num) % 2 == 0):\n",
    "            return \"even\"\n",
    "        else:\n",
    "            return \"odd\"\n",
    "    except Exception:\n",
    "        print(\"please enter integer type only\")\n",
    "\n",
    "checkEvenOdd(3.5)"
   ]
  },
  {
   "cell_type": "code",
   "execution_count": null,
   "id": "2be61160-0d6d-4677-902c-22c330839bca",
   "metadata": {},
   "outputs": [],
   "source": []
  }
 ],
 "metadata": {
  "kernelspec": {
   "display_name": "myenv",
   "language": "python",
   "name": "python3"
  },
  "language_info": {
   "codemirror_mode": {
    "name": "ipython",
    "version": 3
   },
   "file_extension": ".py",
   "mimetype": "text/x-python",
   "name": "python",
   "nbconvert_exporter": "python",
   "pygments_lexer": "ipython3",
   "version": "3.13.3"
  }
 },
 "nbformat": 4,
 "nbformat_minor": 5
}
