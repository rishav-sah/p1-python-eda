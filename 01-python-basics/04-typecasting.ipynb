{
 "cells": [
  {
   "cell_type": "markdown",
   "id": "378cdeba-1a3d-4160-8cd5-f46ce3fdd265",
   "metadata": {},
   "source": [
    "### Type Casting"
   ]
  },
  {
   "cell_type": "markdown",
   "id": "94f5e91e-f26a-4b75-b7ca-fa83ed4efbd8",
   "metadata": {},
   "source": [
    "- Change one data type to another data type\n",
    "- int -> float\n",
    "- int -> string\n",
    "- int -> boolean\n",
    "- int -> complex\n"
   ]
  },
  {
   "cell_type": "code",
   "execution_count": 5,
   "id": "8a166709-0b55-42d5-9a75-25a44aa8d492",
   "metadata": {},
   "outputs": [
    {
     "data": {
      "text/plain": [
       "100"
      ]
     },
     "execution_count": 5,
     "metadata": {},
     "output_type": "execute_result"
    }
   ],
   "source": [
    "# integer to other data types\n",
    "\n",
    "number1 = 100\n",
    "number1"
   ]
  },
  {
   "cell_type": "code",
   "execution_count": 6,
   "id": "7e550df1-283d-48ea-a421-68a09ee84bd7",
   "metadata": {},
   "outputs": [
    {
     "data": {
      "text/plain": [
       "int"
      ]
     },
     "execution_count": 6,
     "metadata": {},
     "output_type": "execute_result"
    }
   ],
   "source": [
    "type(number1)"
   ]
  },
  {
   "cell_type": "code",
   "execution_count": 13,
   "id": "e86c9e24-a6d6-42b6-ae7b-1de371b526c4",
   "metadata": {},
   "outputs": [
    {
     "data": {
      "text/plain": [
       "100.0"
      ]
     },
     "execution_count": 13,
     "metadata": {},
     "output_type": "execute_result"
    }
   ],
   "source": [
    "# int to float\n",
    "number1f = float(number1)\n",
    "number1f"
   ]
  },
  {
   "cell_type": "code",
   "execution_count": 21,
   "id": "0a9d8981-e794-4890-81e7-acb59f61fed1",
   "metadata": {},
   "outputs": [
    {
     "name": "stdout",
     "output_type": "stream",
     "text": [
      "100.0\n",
      "100\n",
      "True\n",
      "(100+0j)\n",
      "<class 'float'>\n",
      "<class 'str'>\n",
      "<class 'bool'>\n",
      "<class 'complex'>\n"
     ]
    }
   ],
   "source": [
    "number1f = float(number1)\n",
    "number1str = str(number1)\n",
    "number1bool = bool(number1)\n",
    "number1compx = complex(number1)\n",
    "\n",
    "print(number1f)\n",
    "print(number1str)\n",
    "print(number1bool) # 0 & < 0 is false\n",
    "print(number1compx)\n",
    "\n",
    "print(type(number1f))\n",
    "print(type(number1str))\n",
    "print(type(number1bool))\n",
    "print(type(number1compx))"
   ]
  },
  {
   "cell_type": "markdown",
   "id": "692e51a1-6b0e-47ea-8fd6-8cc0595fe17a",
   "metadata": {},
   "source": [
    "##### Change float data type to another data type\n",
    "- float -> int\n",
    "- float -> string\n",
    "- float -> boolean\n",
    "- float -> complex"
   ]
  },
  {
   "cell_type": "code",
   "execution_count": 22,
   "id": "89398739-acc7-47f8-b5a6-bd625a936662",
   "metadata": {},
   "outputs": [
    {
     "name": "stdout",
     "output_type": "stream",
     "text": [
      "3.6\n",
      "<class 'float'>\n"
     ]
    }
   ],
   "source": [
    "# float to other data types\n",
    "gpa = 3.6\n",
    "print(gpa)\n",
    "print(type(gpa))"
   ]
  },
  {
   "cell_type": "code",
   "execution_count": 25,
   "id": "13db2b14-ec00-46cc-8c85-bfd2ad9512dc",
   "metadata": {},
   "outputs": [
    {
     "name": "stdout",
     "output_type": "stream",
     "text": [
      "3\n",
      "True\n",
      "3.6\n",
      "(3.6+0j)\n",
      "<class 'int'>\n",
      "<class 'bool'>\n",
      "<class 'str'>\n",
      "<class 'complex'>\n"
     ]
    }
   ],
   "source": [
    "gpa_int = int(gpa)\n",
    "gpa_bool = bool(gpa)\n",
    "gpa_string = str(gpa)\n",
    "gpa_complex = complex(gpa)\n",
    "\n",
    "print(gpa_int)\n",
    "print(gpa_bool)\n",
    "print(gpa_string)\n",
    "print(gpa_complex)\n",
    "\n",
    "print(type(gpa_int))\n",
    "print(type(gpa_bool))\n",
    "print(type(gpa_string))\n",
    "print(type(gpa_complex))"
   ]
  },
  {
   "cell_type": "markdown",
   "id": "54c5265a-73ff-4c97-b218-1e77afee9d62",
   "metadata": {},
   "source": [
    "##### Change string data type to another data type\n",
    "- str -> int\n",
    "- str -> float\n",
    "- str -> boolean\n",
    "- str -> complex"
   ]
  },
  {
   "cell_type": "code",
   "execution_count": 26,
   "id": "fb5e3cc3-90a5-4cc3-a9f7-481be4b1ae80",
   "metadata": {},
   "outputs": [
    {
     "name": "stdout",
     "output_type": "stream",
     "text": [
      "Thomas Shelby\n",
      "<class 'str'>\n"
     ]
    }
   ],
   "source": [
    "full_name = \"Thomas Shelby\"\n",
    "print(full_name)\n",
    "print(type(full_name))"
   ]
  },
  {
   "cell_type": "code",
   "execution_count": 40,
   "id": "c0136873-fe53-453b-95e6-0c9019b3f2d8",
   "metadata": {},
   "outputs": [
    {
     "name": "stdout",
     "output_type": "stream",
     "text": [
      "True\n",
      "83.0\n",
      "(83+0j)\n"
     ]
    }
   ],
   "source": [
    "# full_name_int = int(full_name) # cannot be converted - invalid literal for int() with base 10\n",
    "# full_name_float = float(full_name) # error\n",
    "full_name_bool = bool(full_name)\n",
    "# full_name_complex = complex(full_name) # error\n",
    "\n",
    "num_str = \"83\" # base type: float, but the representation is in strings - error. In case of just 83 it works\n",
    "num_str_int = int(num_str)\n",
    "num_str_float = float(num_str)\n",
    "num_str_complex = complex(num_str)\n",
    "\n",
    "print(full_name_bool) # empty string (\"\") is false\n",
    "print(num_str_float)\n",
    "print(num_str_complex)\n"
   ]
  },
  {
   "cell_type": "code",
   "execution_count": 44,
   "id": "a4ef060a-2140-407e-90f0-e9ab4ed052f6",
   "metadata": {},
   "outputs": [
    {
     "ename": "ValueError",
     "evalue": "invalid literal for int() with base 10: '10.5'",
     "output_type": "error",
     "traceback": [
      "\u001b[0;31m---------------------------------------------------------------------------\u001b[0m",
      "\u001b[0;31mValueError\u001b[0m                                Traceback (most recent call last)",
      "Cell \u001b[0;32mIn[44], line 1\u001b[0m\n\u001b[0;32m----> 1\u001b[0m \u001b[38;5;28;43mint\u001b[39;49m\u001b[43m(\u001b[49m\u001b[38;5;124;43m\"\u001b[39;49m\u001b[38;5;124;43m10.5\u001b[39;49m\u001b[38;5;124;43m\"\u001b[39;49m\u001b[43m)\u001b[49m\n",
      "\u001b[0;31mValueError\u001b[0m: invalid literal for int() with base 10: '10.5'"
     ]
    }
   ],
   "source": [
    "int(\"10.5\")"
   ]
  },
  {
   "cell_type": "code",
   "execution_count": 46,
   "id": "25cee68d-1d89-4038-bda6-1384c986c88c",
   "metadata": {},
   "outputs": [
    {
     "name": "stdout",
     "output_type": "stream",
     "text": [
      "(10.5+0j)\n",
      "(10.5+0j)\n"
     ]
    }
   ],
   "source": [
    "print(complex(\"10.5\"))\n",
    "print(complex(10.5))"
   ]
  },
  {
   "cell_type": "code",
   "execution_count": 47,
   "id": "eba99e46-7c8b-4d56-bf30-75dea18e4351",
   "metadata": {},
   "outputs": [
    {
     "data": {
      "text/plain": [
       "10.5"
      ]
     },
     "execution_count": 47,
     "metadata": {},
     "output_type": "execute_result"
    }
   ],
   "source": [
    "float('10.5')\n",
    "float(10.5)"
   ]
  },
  {
   "cell_type": "code",
   "execution_count": 48,
   "id": "acaaa3f7-82ee-4d45-b256-4265c4f096e3",
   "metadata": {},
   "outputs": [
    {
     "name": "stdout",
     "output_type": "stream",
     "text": [
      "10\n"
     ]
    }
   ],
   "source": [
    "# converting float number of string type to integer without error\n",
    "num_fs = \"10.34\"\n",
    "num_fs_float = float(num_fs)\n",
    "num_fs_int = int(num_fs_float)\n",
    "print(num_fs_int)"
   ]
  },
  {
   "cell_type": "code",
   "execution_count": null,
   "id": "8af49160-6b8e-4ff2-a846-c7437859608a",
   "metadata": {},
   "outputs": [],
   "source": [
    "##### Change string data type to another data type\n",
    "- bool -> int\n",
    "- bool -> float\n",
    "- bool -> boolean\n",
    "- str -> complex"
   ]
  },
  {
   "cell_type": "code",
   "execution_count": 49,
   "id": "6b98f396-05a3-4b9c-bc49-40699f25c382",
   "metadata": {},
   "outputs": [
    {
     "data": {
      "text/plain": [
       "1"
      ]
     },
     "execution_count": 49,
     "metadata": {},
     "output_type": "execute_result"
    }
   ],
   "source": [
    "value_bool = True\n",
    "int(value_bool)"
   ]
  },
  {
   "cell_type": "code",
   "execution_count": 65,
   "id": "c7cf14de-b8fc-422c-9149-cac0a9fbc2c9",
   "metadata": {},
   "outputs": [
    {
     "name": "stdout",
     "output_type": "stream",
     "text": [
      "(10.2+2j)\n",
      "True\n",
      "<class 'str'>\n",
      "<class 'bool'>\n"
     ]
    }
   ],
   "source": [
    "# complex to other\n",
    "value_complex = 10.2+2j\n",
    "# value_complex_int = int(value_complex)\n",
    "# value_complex_float = float(value_complex)\n",
    "value_complex_str = str(value_complex)\n",
    "value_complex_bool = bool(value_complex)\n",
    "\n",
    "\n",
    "print(value_complex_str)\n",
    "print(value_complex_bool)\n",
    "\n",
    "print(type(value_complex_str))\n",
    "print(type(value_complex_bool))"
   ]
  },
  {
   "cell_type": "code",
   "execution_count": null,
   "id": "9b70c079-bf61-4a7e-adc8-d9da32e1710c",
   "metadata": {},
   "outputs": [],
   "source": []
  }
 ],
 "metadata": {
  "kernelspec": {
   "display_name": "Python 3 (ipykernel)",
   "language": "python",
   "name": "python3"
  },
  "language_info": {
   "codemirror_mode": {
    "name": "ipython",
    "version": 3
   },
   "file_extension": ".py",
   "mimetype": "text/x-python",
   "name": "python",
   "nbconvert_exporter": "python",
   "pygments_lexer": "ipython3",
   "version": "3.9.6"
  }
 },
 "nbformat": 4,
 "nbformat_minor": 5
}
