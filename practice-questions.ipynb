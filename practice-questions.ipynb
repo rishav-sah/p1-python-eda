{
 "cells": [
  {
   "cell_type": "markdown",
   "id": "73c83ce5-8918-4631-ba43-5600e6d4eb43",
   "metadata": {},
   "source": [
    "##### Write a Python program that takes two numbers from the user and swaps them without using a third variable."
   ]
  },
  {
   "cell_type": "code",
   "execution_count": 4,
   "id": "532c85aa-f340-4c91-849b-c40f95ef203f",
   "metadata": {},
   "outputs": [
    {
     "name": "stdout",
     "output_type": "stream",
     "text": [
      "Enter num 1:  2\n",
      "Enter num 2:  3\n"
     ]
    },
    {
     "name": "stdout",
     "output_type": "stream",
     "text": [
      "Before swapping num1: 2, num2: 3\n",
      "after swapping num1: 3, num2: 2\n"
     ]
    }
   ],
   "source": [
    "num1 = eval(input(\"Enter num 1: \"))\n",
    "num2 = eval(input(\"Enter num 2: \"))\n",
    "print(\"Before swapping num1: {}, num2: {}\".format(num1, num2))\n",
    "[num1, num2] = [num2, num1] # this is known as sequence unpacking or iterable unpacking\n",
    "num1, num2 = num2, num1\n",
    "print(\"after swapping num1: {}, num2: {}\".format(num1, num2))"
   ]
  },
  {
   "cell_type": "markdown",
   "id": "54fc18f7-8160-47e6-88c5-a687b7822294",
   "metadata": {},
   "source": [
    "##### Create a program that takes a user input and prints its data type. Then, try converting it into int, float, and str and print the converted results."
   ]
  },
  {
   "cell_type": "code",
   "execution_count": 36,
   "id": "8d7b78e5-a974-4ba8-817d-6dde4c16107b",
   "metadata": {},
   "outputs": [
    {
     "name": "stdout",
     "output_type": "stream",
     "text": [
      "Enter integer:  2\n",
      "Enter float:  4.3\n",
      "Enter String:  Hi, How are you?\n",
      "Enter True or False:  False\n",
      "Enter complex num:  3.8j\n"
     ]
    },
    {
     "name": "stdout",
     "output_type": "stream",
     "text": [
      "2\n",
      "4.3\n",
      "Hi, How are you?\n",
      "True\n",
      "0.0\n",
      "3.8\n",
      "int to float 2.0\n",
      "int to str 2\n",
      "int to bool True\n",
      "int to complex (2+0j)\n"
     ]
    }
   ],
   "source": [
    "# dt = data type\n",
    "dt_int = int(input(\"Enter integer: \"))\n",
    "dt_float = float(input(\"Enter float: \"))\n",
    "dt_str = str(input(\"Enter String: \"))\n",
    "dt_bool = bool(input(\"Enter True or False: \"))\n",
    "dt_complex = complex(input(\"Enter complex num: \"))\n",
    "\n",
    "print(dt_int)\n",
    "print(dt_float)\n",
    "print(dt_str)\n",
    "print(dt_bool)\n",
    "print(dt_complex.real)\n",
    "print(dt_complex.imag)\n",
    "\n",
    "print(\"int to float\", float(dt_int))\n",
    "print(\"int to str\", str(dt_int))\n",
    "print(\"int to bool\", bool(dt_int)) # =< 0 - false, 1 >= true\n",
    "print(\"int to complex\", complex(dt_int)) # =< 0 - false, 1 >= true\n",
    "\n",
    "# similarly we can type-cast for the other variables as we did it for the integer\n",
    "# Also, while input float value to the int, we get ValueError but when assigning within the program we don't get the error\n"
   ]
  },
  {
   "cell_type": "markdown",
   "id": "4fcb58e9-cb5a-4646-929a-c577a6330e7b",
   "metadata": {},
   "source": [
    "##### 📌 Write a simple calculator function that takes two numbers and an operator (+, -, *, /) and returns the result. Handle divide-by-zero errors."
   ]
  },
  {
   "cell_type": "code",
   "execution_count": 51,
   "id": "c1d6173b-31b2-40c6-908d-ccd69aca39cc",
   "metadata": {},
   "outputs": [
    {
     "name": "stdout",
     "output_type": "stream",
     "text": [
      "Numerator cannot be zero while division\n"
     ]
    }
   ],
   "source": [
    "def calc(num1, num2, ops):\n",
    "    if (ops == \"+\"):\n",
    "        result = num1 + num2\n",
    "        print(\"The sum of {} and {} is: {}\".format(num1, num2, result))\n",
    "    if (ops == \"-\"):\n",
    "        sub = num1 - num2\n",
    "        print(\"The sum of {} and {} is: {}\".format(num1, num2, sub))\n",
    "    if (ops == \"*\"):\n",
    "        prod = num1 * num2\n",
    "        print(\"The sum of {} and {} is: {}\".format(num1, num2, prod))\n",
    "    try: \n",
    "        if (ops == \"/\"):\n",
    "            div = num1 / num2\n",
    "            print(\"The sum of {} and {} is: {}\".format(num1, num2, div))\n",
    "    except ZeroDivisionError:\n",
    "        print(\"Numerator cannot be zero while division\")\n",
    "\n",
    "calc(20, 0, \"/\")\n"
   ]
  },
  {
   "cell_type": "code",
   "execution_count": null,
   "id": "1e111bf2-5c29-47f8-aaa2-390ec7dcc3f2",
   "metadata": {},
   "outputs": [],
   "source": []
  }
 ],
 "metadata": {
  "kernelspec": {
   "display_name": "myenv",
   "language": "python",
   "name": "python3"
  },
  "language_info": {
   "codemirror_mode": {
    "name": "ipython",
    "version": 3
   },
   "file_extension": ".py",
   "mimetype": "text/x-python",
   "name": "python",
   "nbconvert_exporter": "python",
   "pygments_lexer": "ipython3",
   "version": "3.13.3"
  }
 },
 "nbformat": 4,
 "nbformat_minor": 5
}
