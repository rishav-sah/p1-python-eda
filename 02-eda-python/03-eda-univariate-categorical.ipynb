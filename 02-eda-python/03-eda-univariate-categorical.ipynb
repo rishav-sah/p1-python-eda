{
 "cells": [
  {
   "cell_type": "markdown",
   "id": "4b535b5d-6403-4a9d-8f75-fd44a3049803",
   "metadata": {},
   "source": [
    "## Univariate Categorical Analysis"
   ]
  },
  {
   "cell_type": "raw",
   "id": "d936d252-0e4a-422d-a37c-af9f6a2b8e69",
   "metadata": {},
   "source": [
    "The below are the quickchecks of the data (Initial Inspection)\n",
    "- read the data\n",
    "- how to create a column\n",
    "- how to drop a column\n",
    "- shape-size\n",
    "- head-tail\n",
    "- take-loc-iloc\n",
    "- info/len\n",
    "- is null"
   ]
  },
  {
   "cell_type": "code",
   "execution_count": 4,
   "id": "54e6527d-1041-438b-b94f-674b0086b17c",
   "metadata": {},
   "outputs": [
    {
     "data": {
      "text/html": [
       "<div>\n",
       "<style scoped>\n",
       "    .dataframe tbody tr th:only-of-type {\n",
       "        vertical-align: middle;\n",
       "    }\n",
       "\n",
       "    .dataframe tbody tr th {\n",
       "        vertical-align: top;\n",
       "    }\n",
       "\n",
       "    .dataframe thead th {\n",
       "        text-align: right;\n",
       "    }\n",
       "</style>\n",
       "<table border=\"1\" class=\"dataframe\">\n",
       "  <thead>\n",
       "    <tr style=\"text-align: right;\">\n",
       "      <th></th>\n",
       "      <th>case_id</th>\n",
       "      <th>continent</th>\n",
       "      <th>education_of_employee</th>\n",
       "      <th>has_job_experience</th>\n",
       "      <th>requires_job_training</th>\n",
       "      <th>no_of_employees</th>\n",
       "      <th>yr_of_estab</th>\n",
       "      <th>region_of_employment</th>\n",
       "      <th>prevailing_wage</th>\n",
       "      <th>unit_of_wage</th>\n",
       "      <th>full_time_position</th>\n",
       "      <th>case_status</th>\n",
       "    </tr>\n",
       "  </thead>\n",
       "  <tbody>\n",
       "    <tr>\n",
       "      <th>0</th>\n",
       "      <td>EZYV01</td>\n",
       "      <td>Asia</td>\n",
       "      <td>High School</td>\n",
       "      <td>N</td>\n",
       "      <td>N</td>\n",
       "      <td>14513</td>\n",
       "      <td>2007</td>\n",
       "      <td>West</td>\n",
       "      <td>592.2029</td>\n",
       "      <td>Hour</td>\n",
       "      <td>Y</td>\n",
       "      <td>Denied</td>\n",
       "    </tr>\n",
       "    <tr>\n",
       "      <th>1</th>\n",
       "      <td>EZYV02</td>\n",
       "      <td>Asia</td>\n",
       "      <td>Master's</td>\n",
       "      <td>Y</td>\n",
       "      <td>N</td>\n",
       "      <td>2412</td>\n",
       "      <td>2002</td>\n",
       "      <td>Northeast</td>\n",
       "      <td>83425.6500</td>\n",
       "      <td>Year</td>\n",
       "      <td>Y</td>\n",
       "      <td>Certified</td>\n",
       "    </tr>\n",
       "    <tr>\n",
       "      <th>2</th>\n",
       "      <td>EZYV03</td>\n",
       "      <td>Asia</td>\n",
       "      <td>Bachelor's</td>\n",
       "      <td>N</td>\n",
       "      <td>Y</td>\n",
       "      <td>44444</td>\n",
       "      <td>2008</td>\n",
       "      <td>West</td>\n",
       "      <td>122996.8600</td>\n",
       "      <td>Year</td>\n",
       "      <td>Y</td>\n",
       "      <td>Denied</td>\n",
       "    </tr>\n",
       "    <tr>\n",
       "      <th>3</th>\n",
       "      <td>EZYV04</td>\n",
       "      <td>Asia</td>\n",
       "      <td>Bachelor's</td>\n",
       "      <td>N</td>\n",
       "      <td>N</td>\n",
       "      <td>98</td>\n",
       "      <td>1897</td>\n",
       "      <td>West</td>\n",
       "      <td>83434.0300</td>\n",
       "      <td>Year</td>\n",
       "      <td>Y</td>\n",
       "      <td>Denied</td>\n",
       "    </tr>\n",
       "    <tr>\n",
       "      <th>4</th>\n",
       "      <td>EZYV05</td>\n",
       "      <td>Africa</td>\n",
       "      <td>Master's</td>\n",
       "      <td>Y</td>\n",
       "      <td>N</td>\n",
       "      <td>1082</td>\n",
       "      <td>2005</td>\n",
       "      <td>South</td>\n",
       "      <td>149907.3900</td>\n",
       "      <td>Year</td>\n",
       "      <td>Y</td>\n",
       "      <td>Certified</td>\n",
       "    </tr>\n",
       "  </tbody>\n",
       "</table>\n",
       "</div>"
      ],
      "text/plain": [
       "  case_id continent education_of_employee has_job_experience  \\\n",
       "0  EZYV01      Asia           High School                  N   \n",
       "1  EZYV02      Asia              Master's                  Y   \n",
       "2  EZYV03      Asia            Bachelor's                  N   \n",
       "3  EZYV04      Asia            Bachelor's                  N   \n",
       "4  EZYV05    Africa              Master's                  Y   \n",
       "\n",
       "  requires_job_training  no_of_employees  yr_of_estab region_of_employment  \\\n",
       "0                     N            14513         2007                 West   \n",
       "1                     N             2412         2002            Northeast   \n",
       "2                     Y            44444         2008                 West   \n",
       "3                     N               98         1897                 West   \n",
       "4                     N             1082         2005                South   \n",
       "\n",
       "   prevailing_wage unit_of_wage full_time_position case_status  \n",
       "0         592.2029         Hour                  Y      Denied  \n",
       "1       83425.6500         Year                  Y   Certified  \n",
       "2      122996.8600         Year                  Y      Denied  \n",
       "3       83434.0300         Year                  Y      Denied  \n",
       "4      149907.3900         Year                  Y   Certified  "
      ]
     },
     "execution_count": 4,
     "metadata": {},
     "output_type": "execute_result"
    }
   ],
   "source": [
    "# Import required packages\n",
    "\n",
    "import pandas as pd\n",
    "import numpy as np\n",
    "import matplotlib.pyplot as plt\n",
    "import seaborn as sns\n",
    "\n",
    "# read the data\n",
    "\n",
    "file_path = \"../data/Visa_Predection_Dataset.csv\"\n",
    "df_visa = pd.read_csv(file_path)\n",
    "df_visa.head()"
   ]
  },
  {
   "cell_type": "code",
   "execution_count": 8,
   "id": "844b740c-ce01-4de4-ab8c-2abd6def6d7e",
   "metadata": {},
   "outputs": [
    {
     "name": "stdout",
     "output_type": "stream",
     "text": [
      "Index(['case_id', 'continent', 'education_of_employee', 'has_job_experience',\n",
      "       'requires_job_training', 'no_of_employees', 'yr_of_estab',\n",
      "       'region_of_employment', 'prevailing_wage', 'unit_of_wage',\n",
      "       'full_time_position', 'case_status'],\n",
      "      dtype='object')\n"
     ]
    },
    {
     "data": {
      "text/plain": [
       "0          Asia\n",
       "1          Asia\n",
       "2          Asia\n",
       "3          Asia\n",
       "4        Africa\n",
       "          ...  \n",
       "25475      Asia\n",
       "25476      Asia\n",
       "25477      Asia\n",
       "25478      Asia\n",
       "25479      Asia\n",
       "Name: continent, Length: 25480, dtype: object"
      ]
     },
     "execution_count": 8,
     "metadata": {},
     "output_type": "execute_result"
    }
   ],
   "source": [
    "# read specific column\n",
    "print(df_visa.columns) # check the columns to avoid the spaces \n",
    "df_visa['continent']\n"
   ]
  },
  {
   "cell_type": "code",
   "execution_count": 13,
   "id": "5ca182a0-d13a-44a9-9fbf-937e1f620c9f",
   "metadata": {},
   "outputs": [
    {
     "data": {
      "text/plain": [
       "pandas.core.series.Series"
      ]
     },
     "execution_count": 13,
     "metadata": {},
     "output_type": "execute_result"
    }
   ],
   "source": [
    "type(df_visa['continent']) # Series"
   ]
  },
  {
   "cell_type": "code",
   "execution_count": 20,
   "id": "fbe7b7e8-c2f3-4d47-9c13-0557166214a5",
   "metadata": {},
   "outputs": [
    {
     "data": {
      "text/html": [
       "<div>\n",
       "<style scoped>\n",
       "    .dataframe tbody tr th:only-of-type {\n",
       "        vertical-align: middle;\n",
       "    }\n",
       "\n",
       "    .dataframe tbody tr th {\n",
       "        vertical-align: top;\n",
       "    }\n",
       "\n",
       "    .dataframe thead th {\n",
       "        text-align: right;\n",
       "    }\n",
       "</style>\n",
       "<table border=\"1\" class=\"dataframe\">\n",
       "  <thead>\n",
       "    <tr style=\"text-align: right;\">\n",
       "      <th></th>\n",
       "      <th>continent</th>\n",
       "    </tr>\n",
       "  </thead>\n",
       "  <tbody>\n",
       "    <tr>\n",
       "      <th>0</th>\n",
       "      <td>Asia</td>\n",
       "    </tr>\n",
       "    <tr>\n",
       "      <th>1</th>\n",
       "      <td>Asia</td>\n",
       "    </tr>\n",
       "    <tr>\n",
       "      <th>2</th>\n",
       "      <td>Asia</td>\n",
       "    </tr>\n",
       "    <tr>\n",
       "      <th>3</th>\n",
       "      <td>Asia</td>\n",
       "    </tr>\n",
       "    <tr>\n",
       "      <th>4</th>\n",
       "      <td>Africa</td>\n",
       "    </tr>\n",
       "    <tr>\n",
       "      <th>...</th>\n",
       "      <td>...</td>\n",
       "    </tr>\n",
       "    <tr>\n",
       "      <th>25475</th>\n",
       "      <td>Asia</td>\n",
       "    </tr>\n",
       "    <tr>\n",
       "      <th>25476</th>\n",
       "      <td>Asia</td>\n",
       "    </tr>\n",
       "    <tr>\n",
       "      <th>25477</th>\n",
       "      <td>Asia</td>\n",
       "    </tr>\n",
       "    <tr>\n",
       "      <th>25478</th>\n",
       "      <td>Asia</td>\n",
       "    </tr>\n",
       "    <tr>\n",
       "      <th>25479</th>\n",
       "      <td>Asia</td>\n",
       "    </tr>\n",
       "  </tbody>\n",
       "</table>\n",
       "<p>25480 rows × 1 columns</p>\n",
       "</div>"
      ],
      "text/plain": [
       "      continent\n",
       "0          Asia\n",
       "1          Asia\n",
       "2          Asia\n",
       "3          Asia\n",
       "4        Africa\n",
       "...         ...\n",
       "25475      Asia\n",
       "25476      Asia\n",
       "25477      Asia\n",
       "25478      Asia\n",
       "25479      Asia\n",
       "\n",
       "[25480 rows x 1 columns]"
      ]
     },
     "execution_count": 20,
     "metadata": {},
     "output_type": "execute_result"
    }
   ],
   "source": [
    "cols = ['continent']\n",
    "df_visa[cols] #DataFrame"
   ]
  },
  {
   "cell_type": "code",
   "execution_count": 15,
   "id": "9b4aafb8-e493-48f0-ad8e-be4b0ca59725",
   "metadata": {},
   "outputs": [
    {
     "data": {
      "text/plain": [
       "pandas.core.frame.DataFrame"
      ]
     },
     "execution_count": 15,
     "metadata": {},
     "output_type": "execute_result"
    }
   ],
   "source": [
    "# because of the list\n",
    "type(df_visa[cols])\n",
    "\n",
    "### df_visa['continent'] - Series\n",
    "#### df_visa[['continent']] - dataframe (table)"
   ]
  },
  {
   "cell_type": "code",
   "execution_count": 19,
   "id": "3320cd4e-77e5-4144-be20-72521900c04a",
   "metadata": {},
   "outputs": [
    {
     "data": {
      "text/plain": [
       "0          Asia\n",
       "1          Asia\n",
       "2          Asia\n",
       "3          Asia\n",
       "4        Africa\n",
       "          ...  \n",
       "25475      Asia\n",
       "25476      Asia\n",
       "25477      Asia\n",
       "25478      Asia\n",
       "25479      Asia\n",
       "Name: continent, Length: 25480, dtype: object"
      ]
     },
     "execution_count": 19,
     "metadata": {},
     "output_type": "execute_result"
    }
   ],
   "source": [
    "# Also, we can read the specific column by below method.\n",
    "df_visa.continent"
   ]
  },
  {
   "cell_type": "markdown",
   "id": "d6458e99-7b52-4832-91ba-ece1309f4e7e",
   "metadata": {},
   "source": [
    "##### Reading multiple columns"
   ]
  },
  {
   "cell_type": "code",
   "execution_count": 21,
   "id": "b6108cee-d2a4-42ef-bb9b-614eea9c4398",
   "metadata": {},
   "outputs": [
    {
     "data": {
      "text/html": [
       "<div>\n",
       "<style scoped>\n",
       "    .dataframe tbody tr th:only-of-type {\n",
       "        vertical-align: middle;\n",
       "    }\n",
       "\n",
       "    .dataframe tbody tr th {\n",
       "        vertical-align: top;\n",
       "    }\n",
       "\n",
       "    .dataframe thead th {\n",
       "        text-align: right;\n",
       "    }\n",
       "</style>\n",
       "<table border=\"1\" class=\"dataframe\">\n",
       "  <thead>\n",
       "    <tr style=\"text-align: right;\">\n",
       "      <th></th>\n",
       "      <th>continent</th>\n",
       "      <th>yr_of_estab</th>\n",
       "      <th>case_status</th>\n",
       "    </tr>\n",
       "  </thead>\n",
       "  <tbody>\n",
       "    <tr>\n",
       "      <th>0</th>\n",
       "      <td>Asia</td>\n",
       "      <td>2007</td>\n",
       "      <td>Denied</td>\n",
       "    </tr>\n",
       "    <tr>\n",
       "      <th>1</th>\n",
       "      <td>Asia</td>\n",
       "      <td>2002</td>\n",
       "      <td>Certified</td>\n",
       "    </tr>\n",
       "    <tr>\n",
       "      <th>2</th>\n",
       "      <td>Asia</td>\n",
       "      <td>2008</td>\n",
       "      <td>Denied</td>\n",
       "    </tr>\n",
       "    <tr>\n",
       "      <th>3</th>\n",
       "      <td>Asia</td>\n",
       "      <td>1897</td>\n",
       "      <td>Denied</td>\n",
       "    </tr>\n",
       "    <tr>\n",
       "      <th>4</th>\n",
       "      <td>Africa</td>\n",
       "      <td>2005</td>\n",
       "      <td>Certified</td>\n",
       "    </tr>\n",
       "    <tr>\n",
       "      <th>...</th>\n",
       "      <td>...</td>\n",
       "      <td>...</td>\n",
       "      <td>...</td>\n",
       "    </tr>\n",
       "    <tr>\n",
       "      <th>25475</th>\n",
       "      <td>Asia</td>\n",
       "      <td>2008</td>\n",
       "      <td>Certified</td>\n",
       "    </tr>\n",
       "    <tr>\n",
       "      <th>25476</th>\n",
       "      <td>Asia</td>\n",
       "      <td>2006</td>\n",
       "      <td>Certified</td>\n",
       "    </tr>\n",
       "    <tr>\n",
       "      <th>25477</th>\n",
       "      <td>Asia</td>\n",
       "      <td>1910</td>\n",
       "      <td>Certified</td>\n",
       "    </tr>\n",
       "    <tr>\n",
       "      <th>25478</th>\n",
       "      <td>Asia</td>\n",
       "      <td>1887</td>\n",
       "      <td>Certified</td>\n",
       "    </tr>\n",
       "    <tr>\n",
       "      <th>25479</th>\n",
       "      <td>Asia</td>\n",
       "      <td>1960</td>\n",
       "      <td>Certified</td>\n",
       "    </tr>\n",
       "  </tbody>\n",
       "</table>\n",
       "<p>25480 rows × 3 columns</p>\n",
       "</div>"
      ],
      "text/plain": [
       "      continent  yr_of_estab case_status\n",
       "0          Asia         2007      Denied\n",
       "1          Asia         2002   Certified\n",
       "2          Asia         2008      Denied\n",
       "3          Asia         1897      Denied\n",
       "4        Africa         2005   Certified\n",
       "...         ...          ...         ...\n",
       "25475      Asia         2008   Certified\n",
       "25476      Asia         2006   Certified\n",
       "25477      Asia         1910   Certified\n",
       "25478      Asia         1887   Certified\n",
       "25479      Asia         1960   Certified\n",
       "\n",
       "[25480 rows x 3 columns]"
      ]
     },
     "execution_count": 21,
     "metadata": {},
     "output_type": "execute_result"
    }
   ],
   "source": [
    "cols = ['continent', 'yr_of_estab', 'case_status']\n",
    "df_visa[cols]"
   ]
  },
  {
   "cell_type": "markdown",
   "id": "d89d4fbd-aac6-481b-8e1d-659f8d31865f",
   "metadata": {},
   "source": [
    "$unique$\n",
    "- doesn't apply for dataframe\n",
    "- only applied for series"
   ]
  },
  {
   "cell_type": "code",
   "execution_count": 24,
   "id": "dd2e7cdf-21d6-4ca2-8bb6-49a994991087",
   "metadata": {},
   "outputs": [
    {
     "data": {
      "text/plain": [
       "array(['Asia', 'Africa', 'North America', 'Europe', 'South America',\n",
       "       'Oceania'], dtype=object)"
      ]
     },
     "execution_count": 24,
     "metadata": {},
     "output_type": "execute_result"
    }
   ],
   "source": [
    "df_visa['continent'].unique() # in bound method keep the ()"
   ]
  },
  {
   "cell_type": "code",
   "execution_count": 29,
   "id": "73ad67d0-4891-4ffe-936a-2682aeb662a6",
   "metadata": {},
   "outputs": [
    {
     "data": {
      "text/plain": [
       "6"
      ]
     },
     "execution_count": 29,
     "metadata": {},
     "output_type": "execute_result"
    }
   ],
   "source": [
    "# How many unique labels are there\n",
    "len(df_visa['continent'].unique())"
   ]
  },
  {
   "cell_type": "code",
   "execution_count": 33,
   "id": "2304767a-021e-4048-ad7f-5d314297cd05",
   "metadata": {},
   "outputs": [
    {
     "data": {
      "text/plain": [
       "25480"
      ]
     },
     "execution_count": 33,
     "metadata": {},
     "output_type": "execute_result"
    }
   ],
   "source": [
    "# Total observations\n",
    "len(df_visa['continent'])"
   ]
  },
  {
   "cell_type": "markdown",
   "id": "847062e9-d905-4a30-9f3c-bae987feb4dc",
   "metadata": {},
   "source": [
    "$nunique$"
   ]
  },
  {
   "cell_type": "code",
   "execution_count": 32,
   "id": "58b62bb1-5c0e-458f-a7a7-72ee6ed272c4",
   "metadata": {},
   "outputs": [
    {
     "data": {
      "text/plain": [
       "6"
      ]
     },
     "execution_count": 32,
     "metadata": {},
     "output_type": "execute_result"
    }
   ],
   "source": [
    "# How many unique labels are there\n",
    "df_visa['continent'].nunique()"
   ]
  },
  {
   "cell_type": "code",
   "execution_count": null,
   "id": "ac7e7c75-a083-4182-b4bf-3946355fdb16",
   "metadata": {},
   "outputs": [],
   "source": [
    "# we read the continent column\n",
    "# we understood that there are 6 unique labels\n",
    "# there are 6 unique labels and being repeated in total observations of 25480\n",
    "# How many Asia, How many Africa"
   ]
  },
  {
   "cell_type": "code",
   "execution_count": 34,
   "id": "bec81c97-d745-464f-8315-38001234a8aa",
   "metadata": {},
   "outputs": [
    {
     "data": {
      "text/plain": [
       "0         True\n",
       "1         True\n",
       "2         True\n",
       "3         True\n",
       "4        False\n",
       "         ...  \n",
       "25475     True\n",
       "25476     True\n",
       "25477     True\n",
       "25478     True\n",
       "25479     True\n",
       "Name: continent, Length: 25480, dtype: bool"
      ]
     },
     "execution_count": 34,
     "metadata": {},
     "output_type": "execute_result"
    }
   ],
   "source": [
    "df_visa['continent']=='Asia'\n",
    "# How many true are there\n",
    "# How many rows are satisfying the condition\n",
    "# How many observations are having continent as Asia"
   ]
  },
  {
   "cell_type": "code",
   "execution_count": 41,
   "id": "4c259639-6754-488a-957e-82ddb498b299",
   "metadata": {},
   "outputs": [
    {
     "data": {
      "text/plain": [
       "16861"
      ]
     },
     "execution_count": 41,
     "metadata": {},
     "output_type": "execute_result"
    }
   ],
   "source": [
    "len(df_visa[df_visa['continent'] == 'Asia'])"
   ]
  },
  {
   "cell_type": "code",
   "execution_count": 43,
   "id": "73d86984-375b-41df-a4a9-4e21f46953d0",
   "metadata": {},
   "outputs": [],
   "source": [
    "# There are 16861 observations that lies in Asia"
   ]
  },
  {
   "cell_type": "code",
   "execution_count": 45,
   "id": "56283078-19b7-465f-a63c-2b2c72596a95",
   "metadata": {},
   "outputs": [
    {
     "name": "stdout",
     "output_type": "stream",
     "text": [
      "551\n",
      "3292\n",
      "3732\n",
      "852\n",
      "192\n"
     ]
    }
   ],
   "source": [
    "# reading the data and converting it into dataframe\n",
    "# reading specific column\n",
    "# condition - one label\n",
    "# getting the data - df\n",
    "# applying the length - len\n",
    "\n",
    "################################################################\n",
    "\n",
    "# The below is not a good way of writing code\n",
    "print(len(df_visa[df_visa['continent'] == 'Africa']))\n",
    "print(len(df_visa[df_visa['continent'] == 'North America']))\n",
    "print(len(df_visa[df_visa['continent'] == 'Europe']))\n",
    "print(len(df_visa[df_visa['continent'] == 'South America']))\n",
    "print(len(df_visa[df_visa['continent'] == 'Oceania']))\n"
   ]
  },
  {
   "cell_type": "code",
   "execution_count": 58,
   "id": "a823ae1d-9af5-4504-b237-66d0c8ae7a36",
   "metadata": {},
   "outputs": [
    {
     "name": "stdout",
     "output_type": "stream",
     "text": [
      "Asia : 16861\n",
      "Africa : 551\n",
      "North America : 3292\n",
      "Europe : 3732\n",
      "South America : 852\n",
      "Oceania : 192\n",
      "[16861, 551, 3292, 3732, 852, 192]\n"
     ]
    }
   ],
   "source": [
    "count = []\n",
    "continents = df_visa['continent'].unique()\n",
    "for i in continents:\n",
    "    c = len(df_visa[df_visa['continent'] == i])\n",
    "    print (i, \":\", c)\n",
    "    count.append(c)\n",
    "print(count)\n"
   ]
  },
  {
   "cell_type": "code",
   "execution_count": 310,
   "id": "8a7ccb9c-a757-4c43-b27e-c06059514fbf",
   "metadata": {},
   "outputs": [
    {
     "data": {
      "text/plain": [
       "pandas.core.indexes.base.Index"
      ]
     },
     "execution_count": 310,
     "metadata": {},
     "output_type": "execute_result"
    }
   ],
   "source": [
    "type(continents)"
   ]
  },
  {
   "cell_type": "code",
   "execution_count": 60,
   "id": "e55ff81a-e152-4df4-a7d6-1a93f9ea2ceb",
   "metadata": {},
   "outputs": [
    {
     "data": {
      "text/plain": [
       "[16861, 551, 3292, 3732, 852, 192]"
      ]
     },
     "execution_count": 60,
     "metadata": {},
     "output_type": "execute_result"
    }
   ],
   "source": [
    "# using list comprehension\n",
    "\n",
    "count = [len(df_visa[df_visa['continent'] == i]) for i in continents]\n",
    "count"
   ]
  },
  {
   "cell_type": "code",
   "execution_count": 62,
   "id": "fec7e485-f402-4ba9-b31a-5da266a3a82d",
   "metadata": {},
   "outputs": [
    {
     "data": {
      "text/plain": [
       "[16861, 551, 3292, 3732, 852, 192]"
      ]
     },
     "execution_count": 62,
     "metadata": {},
     "output_type": "execute_result"
    }
   ],
   "source": [
    "continents\n",
    "count"
   ]
  },
  {
   "cell_type": "code",
   "execution_count": 69,
   "id": "8a610c9d-d417-47b2-b8f4-9f4127c8a980",
   "metadata": {},
   "outputs": [
    {
     "data": {
      "text/html": [
       "<div>\n",
       "<style scoped>\n",
       "    .dataframe tbody tr th:only-of-type {\n",
       "        vertical-align: middle;\n",
       "    }\n",
       "\n",
       "    .dataframe tbody tr th {\n",
       "        vertical-align: top;\n",
       "    }\n",
       "\n",
       "    .dataframe thead th {\n",
       "        text-align: right;\n",
       "    }\n",
       "</style>\n",
       "<table border=\"1\" class=\"dataframe\">\n",
       "  <thead>\n",
       "    <tr style=\"text-align: right;\">\n",
       "      <th></th>\n",
       "      <th>continent</th>\n",
       "      <th>count</th>\n",
       "    </tr>\n",
       "  </thead>\n",
       "  <tbody>\n",
       "    <tr>\n",
       "      <th>0</th>\n",
       "      <td>Asia</td>\n",
       "      <td>16861</td>\n",
       "    </tr>\n",
       "    <tr>\n",
       "      <th>1</th>\n",
       "      <td>Africa</td>\n",
       "      <td>551</td>\n",
       "    </tr>\n",
       "    <tr>\n",
       "      <th>2</th>\n",
       "      <td>North America</td>\n",
       "      <td>3292</td>\n",
       "    </tr>\n",
       "    <tr>\n",
       "      <th>3</th>\n",
       "      <td>Europe</td>\n",
       "      <td>3732</td>\n",
       "    </tr>\n",
       "    <tr>\n",
       "      <th>4</th>\n",
       "      <td>South America</td>\n",
       "      <td>852</td>\n",
       "    </tr>\n",
       "    <tr>\n",
       "      <th>5</th>\n",
       "      <td>Oceania</td>\n",
       "      <td>192</td>\n",
       "    </tr>\n",
       "  </tbody>\n",
       "</table>\n",
       "</div>"
      ],
      "text/plain": [
       "       continent  count\n",
       "0           Asia  16861\n",
       "1         Africa    551\n",
       "2  North America   3292\n",
       "3         Europe   3732\n",
       "4  South America    852\n",
       "5        Oceania    192"
      ]
     },
     "execution_count": 69,
     "metadata": {},
     "output_type": "execute_result"
    }
   ],
   "source": [
    "df_new = pd.DataFrame(zip(continents, count), columns=['continent', 'count'])\n",
    "df_new"
   ]
  },
  {
   "cell_type": "code",
   "execution_count": 71,
   "id": "ad87dd0d-628a-459b-8d4f-d92ea468e978",
   "metadata": {},
   "outputs": [],
   "source": [
    "df_new.to_csv(\"continents_count.csv\", index=False)"
   ]
  },
  {
   "cell_type": "code",
   "execution_count": 75,
   "id": "61f26024-7596-4d86-b1f5-1927bb70557c",
   "metadata": {},
   "outputs": [
    {
     "data": {
      "text/plain": [
       "continent\n",
       "Asia             16861\n",
       "Europe            3732\n",
       "North America     3292\n",
       "South America      852\n",
       "Africa             551\n",
       "Oceania            192\n",
       "Name: count, dtype: int64"
      ]
     },
     "execution_count": 75,
     "metadata": {},
     "output_type": "execute_result"
    }
   ],
   "source": [
    "df_visa['continent'].value_counts()"
   ]
  },
  {
   "cell_type": "code",
   "execution_count": 78,
   "id": "2a5f26de-bdf2-44b5-aa06-547efbc523f8",
   "metadata": {},
   "outputs": [
    {
     "data": {
      "text/plain": [
       "Asia             16861\n",
       "Africa             551\n",
       "North America     3292\n",
       "Europe            3732\n",
       "South America      852\n",
       "Oceania            192\n",
       "dtype: int64"
      ]
     },
     "execution_count": 78,
     "metadata": {},
     "output_type": "execute_result"
    }
   ],
   "source": [
    "pd.Series(count, index=continents)"
   ]
  },
  {
   "cell_type": "code",
   "execution_count": 79,
   "id": "8ba5e102-e5dc-4350-9296-a985c49fad7a",
   "metadata": {},
   "outputs": [
    {
     "data": {
      "text/plain": [
       "continent\n",
       "Asia             16861\n",
       "Europe            3732\n",
       "North America     3292\n",
       "South America      852\n",
       "Africa             551\n",
       "Oceania            192\n",
       "Name: count, dtype: int64"
      ]
     },
     "execution_count": 79,
     "metadata": {},
     "output_type": "execute_result"
    }
   ],
   "source": [
    "df_visa['continent'].value_counts()\n",
    "\n",
    "# In order to create a dataframe we need\n",
    "# we need two list\n",
    "# or 1 dictionary\n",
    "\n",
    "\n",
    "\n"
   ]
  },
  {
   "cell_type": "code",
   "execution_count": 105,
   "id": "b80c3c3c-b372-4616-aeb7-b98f190ecd78",
   "metadata": {},
   "outputs": [
    {
     "data": {
      "text/plain": [
       "Index(['Asia', 'Europe', 'North America', 'South America', 'Africa',\n",
       "       'Oceania'],\n",
       "      dtype='object', name='continent')"
      ]
     },
     "execution_count": 105,
     "metadata": {},
     "output_type": "execute_result"
    }
   ],
   "source": [
    "list1 = df_visa['continent'].value_counts().keys()\n",
    "list1"
   ]
  },
  {
   "cell_type": "code",
   "execution_count": 101,
   "id": "90764e62-a782-47d4-b55d-101301f9eea8",
   "metadata": {},
   "outputs": [
    {
     "data": {
      "text/plain": [
       "array([16861,  3732,  3292,   852,   551,   192])"
      ]
     },
     "execution_count": 101,
     "metadata": {},
     "output_type": "execute_result"
    }
   ],
   "source": [
    "list2 = df_visa['continent'].value_counts().values\n",
    "list2"
   ]
  },
  {
   "cell_type": "code",
   "execution_count": 102,
   "id": "a14cc45c-30d0-492c-9efc-35cbbfc30581",
   "metadata": {},
   "outputs": [],
   "source": [
    "df_cont = pd.DataFrame(zip(list1, list2), columns=[\"continent\", \"count\"])"
   ]
  },
  {
   "cell_type": "code",
   "execution_count": 103,
   "id": "c4e0d05c-4a2f-49fa-86a7-a4eaf705bc62",
   "metadata": {},
   "outputs": [
    {
     "data": {
      "text/html": [
       "<div>\n",
       "<style scoped>\n",
       "    .dataframe tbody tr th:only-of-type {\n",
       "        vertical-align: middle;\n",
       "    }\n",
       "\n",
       "    .dataframe tbody tr th {\n",
       "        vertical-align: top;\n",
       "    }\n",
       "\n",
       "    .dataframe thead th {\n",
       "        text-align: right;\n",
       "    }\n",
       "</style>\n",
       "<table border=\"1\" class=\"dataframe\">\n",
       "  <thead>\n",
       "    <tr style=\"text-align: right;\">\n",
       "      <th></th>\n",
       "      <th>continent</th>\n",
       "      <th>count</th>\n",
       "    </tr>\n",
       "  </thead>\n",
       "  <tbody>\n",
       "    <tr>\n",
       "      <th>0</th>\n",
       "      <td>Asia</td>\n",
       "      <td>16861</td>\n",
       "    </tr>\n",
       "    <tr>\n",
       "      <th>1</th>\n",
       "      <td>Europe</td>\n",
       "      <td>3732</td>\n",
       "    </tr>\n",
       "    <tr>\n",
       "      <th>2</th>\n",
       "      <td>North America</td>\n",
       "      <td>3292</td>\n",
       "    </tr>\n",
       "    <tr>\n",
       "      <th>3</th>\n",
       "      <td>South America</td>\n",
       "      <td>852</td>\n",
       "    </tr>\n",
       "    <tr>\n",
       "      <th>4</th>\n",
       "      <td>Africa</td>\n",
       "      <td>551</td>\n",
       "    </tr>\n",
       "    <tr>\n",
       "      <th>5</th>\n",
       "      <td>Oceania</td>\n",
       "      <td>192</td>\n",
       "    </tr>\n",
       "  </tbody>\n",
       "</table>\n",
       "</div>"
      ],
      "text/plain": [
       "       continent  count\n",
       "0           Asia  16861\n",
       "1         Europe   3732\n",
       "2  North America   3292\n",
       "3  South America    852\n",
       "4         Africa    551\n",
       "5        Oceania    192"
      ]
     },
     "execution_count": 103,
     "metadata": {},
     "output_type": "execute_result"
    }
   ],
   "source": [
    "df_cont"
   ]
  },
  {
   "cell_type": "code",
   "execution_count": 118,
   "id": "c09aeaa9-dba2-4515-a13c-8ecd9ff83bc6",
   "metadata": {},
   "outputs": [
    {
     "name": "stdout",
     "output_type": "stream",
     "text": [
      "{'Asia': np.int64(16861), 'Europe': np.int64(3732), 'North America': np.int64(3292), 'South America': np.int64(852), 'Africa': np.int64(551), 'Oceania': np.int64(192)}\n"
     ]
    }
   ],
   "source": [
    "# method\n",
    "dict1 = dict(df_visa['continent'].value_counts())\n",
    "dict1\n",
    "print(dict1)"
   ]
  },
  {
   "cell_type": "code",
   "execution_count": 119,
   "id": "4b0fbe44-c896-48f6-bd30-e86928766f8e",
   "metadata": {},
   "outputs": [
    {
     "data": {
      "text/html": [
       "<div>\n",
       "<style scoped>\n",
       "    .dataframe tbody tr th:only-of-type {\n",
       "        vertical-align: middle;\n",
       "    }\n",
       "\n",
       "    .dataframe tbody tr th {\n",
       "        vertical-align: top;\n",
       "    }\n",
       "\n",
       "    .dataframe thead th {\n",
       "        text-align: right;\n",
       "    }\n",
       "</style>\n",
       "<table border=\"1\" class=\"dataframe\">\n",
       "  <thead>\n",
       "    <tr style=\"text-align: right;\">\n",
       "      <th></th>\n",
       "      <th>Asia</th>\n",
       "      <th>Europe</th>\n",
       "      <th>North America</th>\n",
       "      <th>South America</th>\n",
       "      <th>Africa</th>\n",
       "      <th>Oceania</th>\n",
       "    </tr>\n",
       "  </thead>\n",
       "  <tbody>\n",
       "    <tr>\n",
       "      <th>0</th>\n",
       "      <td>16861</td>\n",
       "      <td>3732</td>\n",
       "      <td>3292</td>\n",
       "      <td>852</td>\n",
       "      <td>551</td>\n",
       "      <td>192</td>\n",
       "    </tr>\n",
       "    <tr>\n",
       "      <th>1</th>\n",
       "      <td>16861</td>\n",
       "      <td>3732</td>\n",
       "      <td>3292</td>\n",
       "      <td>852</td>\n",
       "      <td>551</td>\n",
       "      <td>192</td>\n",
       "    </tr>\n",
       "  </tbody>\n",
       "</table>\n",
       "</div>"
      ],
      "text/plain": [
       "    Asia  Europe  North America  South America  Africa  Oceania\n",
       "0  16861    3732           3292            852     551      192\n",
       "1  16861    3732           3292            852     551      192"
      ]
     },
     "execution_count": 119,
     "metadata": {},
     "output_type": "execute_result"
    }
   ],
   "source": [
    "# 16861 is a scalar value, it is not in a list\n",
    "pd.DataFrame(dict1, index=[\"count\"])"
   ]
  },
  {
   "cell_type": "code",
   "execution_count": 135,
   "id": "5545a009-ccaa-4c07-9541-f4453180fadd",
   "metadata": {},
   "outputs": [],
   "source": [
    "# method 3\n",
    "dict1 = dict(df_visa['continent'].value_counts())\n",
    "list1 = dict1.keys()\n",
    "list2 = dict1.values()"
   ]
  },
  {
   "cell_type": "code",
   "execution_count": 137,
   "id": "b8ee132e-f160-48e4-b1be-82204658cabd",
   "metadata": {},
   "outputs": [
    {
     "name": "stdout",
     "output_type": "stream",
     "text": [
      "dict_keys(['Asia', 'Europe', 'North America', 'South America', 'Africa', 'Oceania'])\n",
      "dict_values([np.int64(16861), np.int64(3732), np.int64(3292), np.int64(852), np.int64(551), np.int64(192)])\n"
     ]
    }
   ],
   "source": [
    "print(list1)\n",
    "print(list2)"
   ]
  },
  {
   "cell_type": "code",
   "execution_count": 138,
   "id": "642f0fee-929c-4068-ba78-5e9a996099a1",
   "metadata": {},
   "outputs": [],
   "source": [
    "df_continents = pd.DataFrame(zip(list1, list2), columns=[\"continent\", \"count\"])"
   ]
  },
  {
   "cell_type": "code",
   "execution_count": 134,
   "id": "b0f983b9-79c2-4fe2-9678-657ba0883a9d",
   "metadata": {},
   "outputs": [
    {
     "data": {
      "text/html": [
       "<div>\n",
       "<style scoped>\n",
       "    .dataframe tbody tr th:only-of-type {\n",
       "        vertical-align: middle;\n",
       "    }\n",
       "\n",
       "    .dataframe tbody tr th {\n",
       "        vertical-align: top;\n",
       "    }\n",
       "\n",
       "    .dataframe thead th {\n",
       "        text-align: right;\n",
       "    }\n",
       "</style>\n",
       "<table border=\"1\" class=\"dataframe\">\n",
       "  <thead>\n",
       "    <tr style=\"text-align: right;\">\n",
       "      <th></th>\n",
       "      <th>continent</th>\n",
       "      <th>count</th>\n",
       "    </tr>\n",
       "  </thead>\n",
       "  <tbody>\n",
       "    <tr>\n",
       "      <th>0</th>\n",
       "      <td>Asia</td>\n",
       "      <td>16861</td>\n",
       "    </tr>\n",
       "    <tr>\n",
       "      <th>1</th>\n",
       "      <td>Europe</td>\n",
       "      <td>3732</td>\n",
       "    </tr>\n",
       "    <tr>\n",
       "      <th>2</th>\n",
       "      <td>North America</td>\n",
       "      <td>3292</td>\n",
       "    </tr>\n",
       "    <tr>\n",
       "      <th>3</th>\n",
       "      <td>South America</td>\n",
       "      <td>852</td>\n",
       "    </tr>\n",
       "    <tr>\n",
       "      <th>4</th>\n",
       "      <td>Africa</td>\n",
       "      <td>551</td>\n",
       "    </tr>\n",
       "    <tr>\n",
       "      <th>5</th>\n",
       "      <td>Oceania</td>\n",
       "      <td>192</td>\n",
       "    </tr>\n",
       "  </tbody>\n",
       "</table>\n",
       "</div>"
      ],
      "text/plain": [
       "       continent  count\n",
       "0           Asia  16861\n",
       "1         Europe   3732\n",
       "2  North America   3292\n",
       "3  South America    852\n",
       "4         Africa    551\n",
       "5        Oceania    192"
      ]
     },
     "execution_count": 134,
     "metadata": {},
     "output_type": "execute_result"
    }
   ],
   "source": [
    "\n",
    "df_continents #frequency table\n",
    "# one column - categorical\n",
    "# one column - numerical"
   ]
  },
  {
   "cell_type": "code",
   "execution_count": null,
   "id": "46a99c49-d1bf-430b-bb8a-b0c2feb2f25c",
   "metadata": {},
   "outputs": [],
   "source": [
    "# plots\n",
    "# bar plot\n",
    "# pie chart"
   ]
  },
  {
   "cell_type": "markdown",
   "id": "827b4de5-173a-4392-82f7-d31a85d3f209",
   "metadata": {},
   "source": [
    "##### $bar - plot$\n",
    "- x-axis: categorical\n",
    "- y-axis: numerical\n",
    "- what's the data source - df_continent"
   ]
  },
  {
   "cell_type": "code",
   "execution_count": 157,
   "id": "c0a71840-62b6-4ea6-a6d2-07dccae8b8d8",
   "metadata": {},
   "outputs": [
    {
     "data": {
      "image/png": "[encoded data removed]",
      "text/plain": [
       "<Figure size 1000x500 with 1 Axes>"
      ]
     },
     "metadata": {},
     "output_type": "display_data"
    }
   ],
   "source": [
    "plt.figure(figsize=(10,5))\n",
    "# 10 = horizontal, 5 = vertical\n",
    "plt.bar('continent', 'count', data=df_continents)\n",
    "plt.title(\"Bar Chart\")\n",
    "plt.xlabel(\"Continents\")\n",
    "plt.ylabel(\"Counts\")\n",
    "plt.savefig(\"continents.jpeg\")\n",
    "plt.show()"
   ]
  },
  {
   "cell_type": "raw",
   "id": "9e9bdbd8-b1be-40d3-849e-7d69c0efe9f6",
   "metadata": {},
   "source": [
    "- Reading a categorical column\n",
    "- unique\n",
    "- nunique\n",
    "- value counts\n",
    "- frequency table (dataframe)\n",
    "- barplot"
   ]
  },
  {
   "cell_type": "code",
   "execution_count": 158,
   "id": "8c5a342b-6298-4219-bb28-0208c358ad20",
   "metadata": {},
   "outputs": [
    {
     "name": "stdout",
     "output_type": "stream",
     "text": [
      "Hello World\n"
     ]
    }
   ],
   "source": [
    "print(\"Hello World\")"
   ]
  },
  {
   "cell_type": "code",
   "execution_count": 159,
   "id": "1594c575-03a4-457d-b3a3-10efc55afc1e",
   "metadata": {},
   "outputs": [
    {
     "data": {
      "text/html": [
       "<div>\n",
       "<style scoped>\n",
       "    .dataframe tbody tr th:only-of-type {\n",
       "        vertical-align: middle;\n",
       "    }\n",
       "\n",
       "    .dataframe tbody tr th {\n",
       "        vertical-align: top;\n",
       "    }\n",
       "\n",
       "    .dataframe thead th {\n",
       "        text-align: right;\n",
       "    }\n",
       "</style>\n",
       "<table border=\"1\" class=\"dataframe\">\n",
       "  <thead>\n",
       "    <tr style=\"text-align: right;\">\n",
       "      <th></th>\n",
       "      <th>case_id</th>\n",
       "      <th>continent</th>\n",
       "      <th>education_of_employee</th>\n",
       "      <th>has_job_experience</th>\n",
       "      <th>requires_job_training</th>\n",
       "      <th>no_of_employees</th>\n",
       "      <th>yr_of_estab</th>\n",
       "      <th>region_of_employment</th>\n",
       "      <th>prevailing_wage</th>\n",
       "      <th>unit_of_wage</th>\n",
       "      <th>full_time_position</th>\n",
       "      <th>case_status</th>\n",
       "    </tr>\n",
       "  </thead>\n",
       "  <tbody>\n",
       "    <tr>\n",
       "      <th>0</th>\n",
       "      <td>EZYV01</td>\n",
       "      <td>Asia</td>\n",
       "      <td>High School</td>\n",
       "      <td>N</td>\n",
       "      <td>N</td>\n",
       "      <td>14513</td>\n",
       "      <td>2007</td>\n",
       "      <td>West</td>\n",
       "      <td>592.2029</td>\n",
       "      <td>Hour</td>\n",
       "      <td>Y</td>\n",
       "      <td>Denied</td>\n",
       "    </tr>\n",
       "    <tr>\n",
       "      <th>1</th>\n",
       "      <td>EZYV02</td>\n",
       "      <td>Asia</td>\n",
       "      <td>Master's</td>\n",
       "      <td>Y</td>\n",
       "      <td>N</td>\n",
       "      <td>2412</td>\n",
       "      <td>2002</td>\n",
       "      <td>Northeast</td>\n",
       "      <td>83425.6500</td>\n",
       "      <td>Year</td>\n",
       "      <td>Y</td>\n",
       "      <td>Certified</td>\n",
       "    </tr>\n",
       "    <tr>\n",
       "      <th>2</th>\n",
       "      <td>EZYV03</td>\n",
       "      <td>Asia</td>\n",
       "      <td>Bachelor's</td>\n",
       "      <td>N</td>\n",
       "      <td>Y</td>\n",
       "      <td>44444</td>\n",
       "      <td>2008</td>\n",
       "      <td>West</td>\n",
       "      <td>122996.8600</td>\n",
       "      <td>Year</td>\n",
       "      <td>Y</td>\n",
       "      <td>Denied</td>\n",
       "    </tr>\n",
       "    <tr>\n",
       "      <th>3</th>\n",
       "      <td>EZYV04</td>\n",
       "      <td>Asia</td>\n",
       "      <td>Bachelor's</td>\n",
       "      <td>N</td>\n",
       "      <td>N</td>\n",
       "      <td>98</td>\n",
       "      <td>1897</td>\n",
       "      <td>West</td>\n",
       "      <td>83434.0300</td>\n",
       "      <td>Year</td>\n",
       "      <td>Y</td>\n",
       "      <td>Denied</td>\n",
       "    </tr>\n",
       "    <tr>\n",
       "      <th>4</th>\n",
       "      <td>EZYV05</td>\n",
       "      <td>Africa</td>\n",
       "      <td>Master's</td>\n",
       "      <td>Y</td>\n",
       "      <td>N</td>\n",
       "      <td>1082</td>\n",
       "      <td>2005</td>\n",
       "      <td>South</td>\n",
       "      <td>149907.3900</td>\n",
       "      <td>Year</td>\n",
       "      <td>Y</td>\n",
       "      <td>Certified</td>\n",
       "    </tr>\n",
       "  </tbody>\n",
       "</table>\n",
       "</div>"
      ],
      "text/plain": [
       "  case_id continent education_of_employee has_job_experience  \\\n",
       "0  EZYV01      Asia           High School                  N   \n",
       "1  EZYV02      Asia              Master's                  Y   \n",
       "2  EZYV03      Asia            Bachelor's                  N   \n",
       "3  EZYV04      Asia            Bachelor's                  N   \n",
       "4  EZYV05    Africa              Master's                  Y   \n",
       "\n",
       "  requires_job_training  no_of_employees  yr_of_estab region_of_employment  \\\n",
       "0                     N            14513         2007                 West   \n",
       "1                     N             2412         2002            Northeast   \n",
       "2                     Y            44444         2008                 West   \n",
       "3                     N               98         1897                 West   \n",
       "4                     N             1082         2005                South   \n",
       "\n",
       "   prevailing_wage unit_of_wage full_time_position case_status  \n",
       "0         592.2029         Hour                  Y      Denied  \n",
       "1       83425.6500         Year                  Y   Certified  \n",
       "2      122996.8600         Year                  Y      Denied  \n",
       "3       83434.0300         Year                  Y      Denied  \n",
       "4      149907.3900         Year                  Y   Certified  "
      ]
     },
     "execution_count": 159,
     "metadata": {},
     "output_type": "execute_result"
    }
   ],
   "source": [
    "df_visa.head()"
   ]
  },
  {
   "cell_type": "code",
   "execution_count": 160,
   "id": "86b914ce-2c80-4cc2-b6b3-54ed8f27e37d",
   "metadata": {},
   "outputs": [],
   "source": [
    "# Bar plot using seaborn"
   ]
  },
  {
   "cell_type": "code",
   "execution_count": 163,
   "id": "cd3d601f-55a6-4427-b5df-117e9316e4fb",
   "metadata": {},
   "outputs": [],
   "source": [
    "file_path =\"../data/Visa_Predection_Dataset.csv\"\n",
    "df_visa = pd.read_csv(file_path)"
   ]
  },
  {
   "cell_type": "code",
   "execution_count": 164,
   "id": "8f07a3fd-d9d8-4a9a-8ed2-146d61d6173c",
   "metadata": {},
   "outputs": [],
   "source": [
    "# in order to draw the bar chart, we require frequency table\n",
    "# continent column\n",
    "# we created one more data frame\n",
    "# having each label frequency\n",
    "# asia 16k\n",
    "# africa\n",
    "\n",
    "# the above things are required, if you want to draw bar chart using matplotlib\n",
    "\n",
    "# seaborn will take direct original column from original dataframe"
   ]
  },
  {
   "cell_type": "code",
   "execution_count": 166,
   "id": "3f61a861-064c-47e8-959e-8c0779a77889",
   "metadata": {},
   "outputs": [
    {
     "data": {
      "text/html": [
       "<div>\n",
       "<style scoped>\n",
       "    .dataframe tbody tr th:only-of-type {\n",
       "        vertical-align: middle;\n",
       "    }\n",
       "\n",
       "    .dataframe tbody tr th {\n",
       "        vertical-align: top;\n",
       "    }\n",
       "\n",
       "    .dataframe thead th {\n",
       "        text-align: right;\n",
       "    }\n",
       "</style>\n",
       "<table border=\"1\" class=\"dataframe\">\n",
       "  <thead>\n",
       "    <tr style=\"text-align: right;\">\n",
       "      <th></th>\n",
       "      <th>case_id</th>\n",
       "      <th>continent</th>\n",
       "      <th>education_of_employee</th>\n",
       "      <th>has_job_experience</th>\n",
       "      <th>requires_job_training</th>\n",
       "      <th>no_of_employees</th>\n",
       "      <th>yr_of_estab</th>\n",
       "      <th>region_of_employment</th>\n",
       "      <th>prevailing_wage</th>\n",
       "      <th>unit_of_wage</th>\n",
       "      <th>full_time_position</th>\n",
       "      <th>case_status</th>\n",
       "    </tr>\n",
       "  </thead>\n",
       "  <tbody>\n",
       "    <tr>\n",
       "      <th>0</th>\n",
       "      <td>EZYV01</td>\n",
       "      <td>Asia</td>\n",
       "      <td>High School</td>\n",
       "      <td>N</td>\n",
       "      <td>N</td>\n",
       "      <td>14513</td>\n",
       "      <td>2007</td>\n",
       "      <td>West</td>\n",
       "      <td>592.2029</td>\n",
       "      <td>Hour</td>\n",
       "      <td>Y</td>\n",
       "      <td>Denied</td>\n",
       "    </tr>\n",
       "    <tr>\n",
       "      <th>1</th>\n",
       "      <td>EZYV02</td>\n",
       "      <td>Asia</td>\n",
       "      <td>Master's</td>\n",
       "      <td>Y</td>\n",
       "      <td>N</td>\n",
       "      <td>2412</td>\n",
       "      <td>2002</td>\n",
       "      <td>Northeast</td>\n",
       "      <td>83425.6500</td>\n",
       "      <td>Year</td>\n",
       "      <td>Y</td>\n",
       "      <td>Certified</td>\n",
       "    </tr>\n",
       "  </tbody>\n",
       "</table>\n",
       "</div>"
      ],
      "text/plain": [
       "  case_id continent education_of_employee has_job_experience  \\\n",
       "0  EZYV01      Asia           High School                  N   \n",
       "1  EZYV02      Asia              Master's                  Y   \n",
       "\n",
       "  requires_job_training  no_of_employees  yr_of_estab region_of_employment  \\\n",
       "0                     N            14513         2007                 West   \n",
       "1                     N             2412         2002            Northeast   \n",
       "\n",
       "   prevailing_wage unit_of_wage full_time_position case_status  \n",
       "0         592.2029         Hour                  Y      Denied  \n",
       "1       83425.6500         Year                  Y   Certified  "
      ]
     },
     "execution_count": 166,
     "metadata": {},
     "output_type": "execute_result"
    }
   ],
   "source": [
    "df_visa.head(2)"
   ]
  },
  {
   "cell_type": "code",
   "execution_count": null,
   "id": "15db9328-db87-46b4-90d7-594f8d51f2c2",
   "metadata": {},
   "outputs": [],
   "source": [
    "# matplotlib bar chart requires 3 \n",
    "# x-axis : categorical column\n",
    "# y-axis : numerical column\n",
    "# data name\n",
    "\n",
    "# from original data frame df_visa, the original column is continent\n",
    "# we created another column which has labels and its count\n"
   ]
  },
  {
   "cell_type": "code",
   "execution_count": 167,
   "id": "c9695215-d6ce-4778-bcc8-542f5baf8069",
   "metadata": {},
   "outputs": [
    {
     "data": {
      "text/plain": [
       "<Axes: xlabel='continent', ylabel='count'>"
      ]
     },
     "execution_count": 167,
     "metadata": {},
     "output_type": "execute_result"
    },
    {
     "data": {
      "image/png": "[encoded data removed]",
      "text/plain": [
       "<Figure size 640x480 with 1 Axes>"
      ]
     },
     "metadata": {},
     "output_type": "display_data"
    }
   ],
   "source": [
    "import seaborn as sns\n",
    "\n",
    "sns.countplot(data=df_visa, x=\"continent\")"
   ]
  },
  {
   "cell_type": "code",
   "execution_count": 168,
   "id": "f1f26149-efd1-404a-968b-2ca9b3235179",
   "metadata": {},
   "outputs": [],
   "source": [
    "# seaborn requires 2 values \n",
    "# data: original dataframe\n",
    "# x : original column name: \"continent\""
   ]
  },
  {
   "cell_type": "code",
   "execution_count": 172,
   "id": "f93c1c8d-ff61-46ce-a156-c037ae5d6bff",
   "metadata": {},
   "outputs": [
    {
     "data": {
      "text/plain": [
       "<Axes: xlabel='continent', ylabel='count'>"
      ]
     },
     "execution_count": 172,
     "metadata": {},
     "output_type": "execute_result"
    },
    {
     "data": {
      "image/png": "[encoded data removed]",
      "text/plain": [
       "<Figure size 640x480 with 1 Axes>"
      ]
     },
     "metadata": {},
     "output_type": "display_data"
    }
   ],
   "source": [
    "labels = [\"Asia\", \"Europe\", \"North America\", \"South America\", \"Africa\", \"Oceania\"]\n",
    "sns.countplot(data=df_visa, x=\"continent\", order=labels)"
   ]
  },
  {
   "cell_type": "code",
   "execution_count": 182,
   "id": "39dc8225-38a6-423d-b7ee-a3444b863264",
   "metadata": {},
   "outputs": [
    {
     "data": {
      "image/png": "[encoded data removed]",
      "text/plain": [
       "<Figure size 1000x500 with 1 Axes>"
      ]
     },
     "metadata": {},
     "output_type": "display_data"
    }
   ],
   "source": [
    "plt.figure(figsize=(10,5))\n",
    "sns.countplot(data=df_visa, x=\"continent\", order=df_visa['continent'].value_counts().keys())\n",
    "plt.title(\"Bar Chart / Plot\")\n",
    "plt.savefig(\"../data/continent_bar_seaborn.jpg\")\n",
    "plt.show()"
   ]
  },
  {
   "cell_type": "code",
   "execution_count": 209,
   "id": "0cf29b4b-2bc6-4fda-afd0-f9e90e2626b9",
   "metadata": {},
   "outputs": [
    {
     "data": {
      "image/png": "[encoded data removed]",
      "text/plain": [
       "<Figure size 1000x500 with 1 Axes>"
      ]
     },
     "metadata": {},
     "output_type": "display_data"
    }
   ],
   "source": [
    "##### Method 1: Using Matplotlib\n",
    "\n",
    "import pandas as pd\n",
    "import matplotlib.pyplot as plt\n",
    "\n",
    "file_path_visa = \"../data/Visa_Predection_Dataset.csv\"\n",
    "df_visa = pd.read_csv(file_path_visa)\n",
    "df_visa\n",
    "\n",
    "####################### Creating a frequency table #########################\n",
    "df_visa['continent'].value_counts()\n",
    "continent = df_visa['continent'].value_counts().keys()\n",
    "count = df_visa['continent'].value_counts().values\n",
    "continent_data = pd.DataFrame(zip(continent, count), columns=['continent', 'count'])\n",
    "\n",
    "\n",
    "###################### Plot #########################\n",
    "plt.figure(figsize=(10,5))\n",
    "plt.title(\"Bar Plot / Chart\")\n",
    "plt.bar(\"continent\", \"count\", data=continent_data)\n",
    "plt.show()"
   ]
  },
  {
   "cell_type": "code",
   "execution_count": 213,
   "id": "5d604d6f-760a-4578-9a65-c644ace76fa3",
   "metadata": {},
   "outputs": [
    {
     "data": {
      "image/png": "[encoded data removed]",
      "text/plain": [
       "<Figure size 1000x500 with 1 Axes>"
      ]
     },
     "metadata": {},
     "output_type": "display_data"
    }
   ],
   "source": [
    "##### Method 2: seaborn\n",
    "\n",
    "###### Plot ######\n",
    "plt.figure(figsize=(10,5))\n",
    "sns.countplot(data=df_visa, x=\"continent\", order=df_visa['continent'].value_counts().keys())\n",
    "plt.title(\"Bar Plot / Chart\")\n",
    "## plt.savefig(\"<path>.<extension>\")\n",
    "plt.show()"
   ]
  },
  {
   "cell_type": "code",
   "execution_count": 216,
   "id": "c573e104-2460-4bbd-a7e8-9268b457cd0b",
   "metadata": {},
   "outputs": [
    {
     "data": {
      "text/plain": [
       "[Text(0, 0, '16861'),\n",
       " Text(0, 0, '3732'),\n",
       " Text(0, 0, '3292'),\n",
       " Text(0, 0, '852'),\n",
       " Text(0, 0, '551'),\n",
       " Text(0, 0, '192')]"
      ]
     },
     "execution_count": 216,
     "metadata": {},
     "output_type": "execute_result"
    },
    {
     "data": {
      "image/png": "[encoded data removed]",
      "text/plain": [
       "<Figure size 640x480 with 1 Axes>"
      ]
     },
     "metadata": {},
     "output_type": "display_data"
    }
   ],
   "source": [
    "### Method 3: using value counts\n",
    "count = df_visa[\"continent\"].value_counts()\n",
    "ax = count.plot(kind=\"bar\")\n",
    "ax.bar_label(ax.containers[0])"
   ]
  },
  {
   "cell_type": "code",
   "execution_count": 220,
   "id": "9000f9bf-7390-45fe-b041-fa5330ce6f82",
   "metadata": {},
   "outputs": [
    {
     "data": {
      "text/plain": [
       "pandas.core.series.Series"
      ]
     },
     "execution_count": 220,
     "metadata": {},
     "output_type": "execute_result"
    }
   ],
   "source": [
    "type(count)"
   ]
  },
  {
   "cell_type": "code",
   "execution_count": 226,
   "id": "ba4cf296-bd6e-41b1-88be-dbb1a822cbe8",
   "metadata": {},
   "outputs": [],
   "source": [
    "# Pie Chart\n",
    "\n",
    "keys = df_visa['continent'].value_counts(normalize=True).keys()\n",
    "values = df_visa['continent'].value_counts(normalize=True).values\n",
    "\n",
    "df_continent_norm = pd.DataFrame(zip(keys, values), columns=[\"continent\", \"relative frequency\"])"
   ]
  },
  {
   "cell_type": "code",
   "execution_count": 251,
   "id": "7072466a-565a-43cb-bcaa-a3e144ba2ca9",
   "metadata": {},
   "outputs": [
    {
     "data": {
      "image/png": "[encoded data removed]",
      "text/plain": [
       "<Figure size 640x480 with 1 Axes>"
      ]
     },
     "metadata": {},
     "output_type": "display_data"
    }
   ],
   "source": [
    "\n",
    "plt.pie(x=values, \n",
    "        labels=keys, \n",
    "        autopct=\"%0.2f%%\", \n",
    "        shadow=True, \n",
    "        startangle=180, \n",
    "        radius=1, \n",
    "        explode=[0.1, 0.1, 0.1, 0.1, 0.1, 0.1])\n",
    "plt.show()"
   ]
  },
  {
   "cell_type": "code",
   "execution_count": 255,
   "id": "90951a55-7a98-4692-bb03-78a6feddd239",
   "metadata": {},
   "outputs": [],
   "source": [
    "keys = df_visa[\"case_status\"].value_counts().keys()\n",
    "values = df_visa[\"case_status\"].value_counts().values"
   ]
  },
  {
   "cell_type": "code",
   "execution_count": 264,
   "id": "89346916-e689-40f5-8be2-ce3b4c3144ce",
   "metadata": {},
   "outputs": [
    {
     "data": {
      "image/png": "[encoded data removed]",
      "text/plain": [
       "<Figure size 640x480 with 1 Axes>"
      ]
     },
     "metadata": {},
     "output_type": "display_data"
    }
   ],
   "source": [
    "plt.pie(x=values, \n",
    "        labels=keys, \n",
    "        autopct=\"%0.2f%%\", \n",
    "        )\n",
    "plt.show()"
   ]
  },
  {
   "cell_type": "code",
   "execution_count": 265,
   "id": "24c0f2fb-f0bb-4308-80bf-6c6a811493b7",
   "metadata": {},
   "outputs": [
    {
     "data": {
      "text/plain": [
       "case_id                   object\n",
       "continent                 object\n",
       "education_of_employee     object\n",
       "has_job_experience        object\n",
       "requires_job_training     object\n",
       "no_of_employees            int64\n",
       "yr_of_estab                int64\n",
       "region_of_employment      object\n",
       "prevailing_wage          float64\n",
       "unit_of_wage              object\n",
       "full_time_position        object\n",
       "case_status               object\n",
       "dtype: object"
      ]
     },
     "execution_count": 265,
     "metadata": {},
     "output_type": "execute_result"
    }
   ],
   "source": [
    "df_visa.dtypes"
   ]
  },
  {
   "cell_type": "code",
   "execution_count": 285,
   "id": "f42e9a0b-cc96-42ea-ad6c-1c7965af4ee8",
   "metadata": {},
   "outputs": [],
   "source": [
    "# getting all categorical variables\n",
    "data_types = dict(df_visa.dtypes)\n",
    "cat = [i for i in data_types if data_types[i]==\"object\"]\n"
   ]
  },
  {
   "cell_type": "code",
   "execution_count": 270,
   "id": "e8308dfa-4386-4cff-9d67-d1ebfd0e4627",
   "metadata": {},
   "outputs": [
    {
     "data": {
      "text/plain": [
       "['case_id',\n",
       " 'continent',\n",
       " 'education_of_employee',\n",
       " 'has_job_experience',\n",
       " 'requires_job_training',\n",
       " 'region_of_employment',\n",
       " 'unit_of_wage',\n",
       " 'full_time_position',\n",
       " 'case_status']"
      ]
     },
     "execution_count": 270,
     "metadata": {},
     "output_type": "execute_result"
    }
   ],
   "source": []
  },
  {
   "cell_type": "code",
   "execution_count": 292,
   "id": "a3339cfd-1d2b-4876-be84-c0ce0a7361c3",
   "metadata": {},
   "outputs": [
    {
     "name": "stdout",
     "output_type": "stream",
     "text": [
      "       continent  count\n",
      "0           Asia  16861\n",
      "1         Europe   3732\n",
      "2  North America   3292\n",
      "3  South America    852\n",
      "4         Africa    551\n",
      "5        Oceania    192\n",
      "  education_of_employee  count\n",
      "0            Bachelor's  10234\n",
      "1              Master's   9634\n",
      "2           High School   3420\n",
      "3             Doctorate   2192\n",
      "  has_job_experience  count\n",
      "0                  Y  14802\n",
      "1                  N  10678\n",
      "  requires_job_training  count\n",
      "0                     N  22525\n",
      "1                     Y   2955\n",
      "  region_of_employment  count\n",
      "0            Northeast   7195\n",
      "1                South   7017\n",
      "2                 West   6586\n",
      "3              Midwest   4307\n",
      "4               Island    375\n",
      "  unit_of_wage  count\n",
      "0         Year  22962\n",
      "1         Hour   2157\n",
      "2         Week    272\n",
      "3        Month     89\n",
      "  full_time_position  count\n",
      "0                  Y  22773\n",
      "1                  N   2707\n",
      "  case_status  count\n",
      "0   Certified  17018\n",
      "1      Denied   8462\n"
     ]
    }
   ],
   "source": [
    "for i in cat[1:]:\n",
    "    df_visa[i].value_counts()\n",
    "    value1 = df_visa[i].value_counts().keys()\n",
    "    value2 = df_visa[i].value_counts().values\n",
    "    data = pd.DataFrame(zip(value1, value2), columns=[i, \"count\"])\n",
    "    print(data)\n",
    "    data.to_csv(f\"../data/visa_dataset/{i}.csv\")"
   ]
  },
  {
   "cell_type": "code",
   "execution_count": 305,
   "id": "db032e76-7488-41f4-864c-2f3228e470a5",
   "metadata": {},
   "outputs": [
    {
     "data": {
      "text/plain": [
       "<Axes: >"
      ]
     },
     "execution_count": 305,
     "metadata": {},
     "output_type": "execute_result"
    },
    {
     "data": {
      "image/png": "[encoded data removed]",
      "text/plain": [
       "<Figure size 640x480 with 4 Axes>"
      ]
     },
     "metadata": {},
     "output_type": "display_data"
    }
   ],
   "source": [
    "# plt.subplot\n",
    "plt.subplot(2,2,1)\n",
    "plt.subplot(2,2,2)\n",
    "plt.subplot(2,2,3)\n",
    "plt.subplot(2,2,4)"
   ]
  },
  {
   "cell_type": "code",
   "execution_count": 307,
   "id": "500631f1-deba-47ff-9db3-adc2ebd0ded5",
   "metadata": {},
   "outputs": [
    {
     "data": {
      "image/png": "[encoded data removed]",
      "text/plain": [
       "<Figure size 640x480 with 9 Axes>"
      ]
     },
     "metadata": {},
     "output_type": "display_data"
    }
   ],
   "source": [
    "# plt.subplot\n",
    "plt.subplot(3,3,1)\n",
    "plt.subplot(3,3,2)\n",
    "plt.subplot(3,3,3)\n",
    "plt.subplot(3,3,4)\n",
    "plt.subplot(3,3,5)\n",
    "plt.subplot(3,3,6)\n",
    "plt.subplot(3,3,7)\n",
    "plt.subplot(3,3,8)\n",
    "plt.subplot(3,3,9)\n",
    "plt.show()"
   ]
  },
  {
   "cell_type": "code",
   "execution_count": null,
   "id": "30ed49e9-9521-4943-ba38-ce32a58f1c27",
   "metadata": {},
   "outputs": [],
   "source": []
  }
 ],
 "metadata": {
  "kernelspec": {
   "display_name": "myenv",
   "language": "python",
   "name": "myenv"
  },
  "language_info": {
   "codemirror_mode": {
    "name": "ipython",
    "version": 3
   },
   "file_extension": ".py",
   "mimetype": "text/x-python",
   "name": "python",
   "nbconvert_exporter": "python",
   "pygments_lexer": "ipython3",
   "version": "3.13.3"
  }
 },
 "nbformat": 4,
 "nbformat_minor": 5
}
